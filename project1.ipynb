{
 "cells": [
  {
   "cell_type": "code",
   "execution_count": 47,
   "metadata": {},
   "outputs": [],
   "source": [
    "import re\n",
    "import string\n",
    "from collections import defaultdict\n",
    "import pickle\n",
    "from tqdm import tqdm\n",
    "from unidecode import unidecode\n",
    "import matplotlib.pyplot as plt\n",
    "from collections import Counter\n",
    "import json\n",
    "import dill\n",
    "from utils import beam_search"
   ]
  },
  {
   "cell_type": "code",
   "execution_count": 2,
   "metadata": {},
   "outputs": [],
   "source": [
    "\n",
    "\"\"\"\n",
    "Splits a paragraph into individual sentences based on punctuation marks.\n",
    ":param paragraph: str, the input paragraph\n",
    ":return: list, the sentences\n",
    "\"\"\"\n",
    "def split_into_sentences(paragraph):\n",
    "    sentences = re.split(r'(?<!\\w\\.\\w\\.)(?<![A-Z][a-z]\\.)(?<=\\.|\\?|\\!)\\s', paragraph)\n",
    "    return [sentence.strip() for sentence in sentences if sentence.strip()]\n"
   ]
  },
  {
   "cell_type": "code",
   "execution_count": 7,
   "metadata": {},
   "outputs": [
    {
     "name": "stdout",
     "output_type": "stream",
     "text": [
      "['Python is amazing.', 'It is versatile!', 'Do you like Python?']\n"
     ]
    }
   ],
   "source": [
    "paragraph = \"Python is amazing. It is versatile! Do you like Python?\"\n",
    "result = split_into_sentences(paragraph)\n",
    "print(result)"
   ]
  },
  {
   "cell_type": "code",
   "execution_count": 8,
   "metadata": {},
   "outputs": [],
   "source": [
    "#Loại bỏ các dấu câu\n",
    "def remove_punctuation(text):\n",
    "  return \"\".join([char for char in text if char not in string.punctuation])"
   ]
  },
  {
   "cell_type": "code",
   "execution_count": 9,
   "metadata": {},
   "outputs": [
    {
     "data": {
      "text/plain": [
       "'Kiểm tra thử loại bỏ các dấu câu Ngày mai trời lại sáng'"
      ]
     },
     "execution_count": 9,
     "metadata": {},
     "output_type": "execute_result"
    }
   ],
   "source": [
    "sentence = \"Kiểm tra thử loại bỏ các dấu câu!!! Ngày mai, trời lại sáng\"\n",
    "remove_punctuation(sentence)"
   ]
  },
  {
   "cell_type": "code",
   "execution_count": 10,
   "metadata": {},
   "outputs": [],
   "source": [
    "def remove_punctuation_corpus(corpus):\n",
    "  corpus_process = []\n",
    "  for sentence in tqdm(corpus):\n",
    "    corpus_process.append(remove_punctuation(sentence))\n",
    "  return corpus_process"
   ]
  },
  {
   "cell_type": "code",
   "execution_count": 11,
   "metadata": {},
   "outputs": [],
   "source": [
    "def remove_diacritic(text):\n",
    "    \"\"\"Hàm loại bỏ dấu tiếng Việt\"\"\"\n",
    "    DIACRITIC_MAP = {\n",
    "        \"áàảãạăắằẳẵặâấầẩẫậ\": \"a\",\n",
    "        \"ÁÀẢÃẠĂẮẰẲẴẶÂẤẦẨẪẬ\": \"A\",\n",
    "        \"éèẻẽẹêếềểễệ\": \"e\",\n",
    "        \"ÉÈẺẼẸÊẾỀỂỄỆ\": \"E\",\n",
    "        \"íìỉĩị\": \"i\",\n",
    "        \"ÍÌỈĨỊ\": \"I\",\n",
    "        \"óòỏõọôốồổỗộơớờởỡợ\": \"o\",\n",
    "        \"ÓÒỎÕỌÔỐỒỔỖỘƠỚỜỞỠỢ\": \"O\",\n",
    "        \"úùủũụưứừửữự\": \"u\",\n",
    "        \"ÚÙỦŨỤƯỨỪỬỮỰ\": \"U\",\n",
    "        \"ýỳỷỹỵ\": \"y\",\n",
    "        \"ÝỲỶỸỴ\": \"Y\",\n",
    "        \"đ\": \"d\",\n",
    "        \"Đ\": \"D\",\n",
    "    }\n",
    "    for accents, char in DIACRITIC_MAP.items():\n",
    "        text = re.sub(f\"[{accents}]\", char, text)\n",
    "    return text"
   ]
  },
  {
   "cell_type": "code",
   "execution_count": 12,
   "metadata": {},
   "outputs": [],
   "source": [
    "file_path = 'train_ipt_500k.pkl'\n",
    "with open(file_path, 'rb') as f:\n",
    "    train_ipt_500k = pickle.load(f)"
   ]
  },
  {
   "cell_type": "code",
   "execution_count": 16,
   "metadata": {},
   "outputs": [
    {
     "name": "stdout",
     "output_type": "stream",
     "text": [
      "['Trang Chính', 'Internet Society', 'Internet Society hay ISOC là một tổ chức quốc tế hoạt động phi lợi nhuận, phi chính phủ và bao gồm các thành viên có trình độ chuyên ngành.', 'Tổ chức này chú trọng đến: tiêu chuẩn, giáo dục và các vấn đề về chính sách.', 'Với trên 145 tổ chức thành viên và 65.000 thành viên cá nhân, ISOC bao gồm những con người cụ thể trong cộng đồng Internet.', 'Mọi chi tiết có thể tìm thấy tại website của ISOC.', 'Internet Society nằm ở gần thủ đô Washington, DC, Hoa Kỳ và Geneva, Thụy Sĩ.', 'Số hội viên của nó bao gồm hơn 145 tổ chức thành viên và hơn 65.000 cá nhân.', 'Thành viên còn có thể tự lập một chi nhánh của tổ chức tùy theo vị trí hoặc sở thích.', 'Hiện nay tổ chức có tới 90 chi nhánh trên toàn thế giới.']\n"
     ]
    }
   ],
   "source": [
    "dataset = train_ipt_500k[:5678]\n",
    "sentences_data = [sent for sentence in dataset for sent in split_into_sentences(sentence)]\n",
    "#remove_punctuation_corpus(dataset)\n",
    "print(sentences_data[:10])\n"
   ]
  },
  {
   "cell_type": "code",
   "execution_count": 18,
   "metadata": {},
   "outputs": [],
   "source": [
    "sentences_data_length = [len(sentence) for sentence in sentences_data]\n",
    "lengths_counts = Counter(sentences_data_length)"
   ]
  },
  {
   "cell_type": "code",
   "execution_count": 21,
   "metadata": {},
   "outputs": [
    {
     "name": "stdout",
     "output_type": "stream",
     "text": [
      "Tổng số lượng câu là: 17850\n",
      "Độ dài trung bình của các câu: 138.46935574229693\n",
      "Độ dài câu dài nhất: 896\n",
      "Độ dài câu ngắn nhất: 1\n",
      "Độ dài câu xuất hiện nhiều nhất: 128\n",
      "Độ dài câu xuất hiện ít nhất: 1\n"
     ]
    }
   ],
   "source": [
    "print(f\"Tổng số lượng câu là: {len(sentences_data)}\")\n",
    "print(f\"Độ dài trung bình của các câu: {sum(sentences_data_length) / len(sentences_data)}\")\n",
    "print(f\"Độ dài câu dài nhất: {max(sentences_data_length)}\")\n",
    "print(f\"Độ dài câu ngắn nhất: {min(sentences_data_length)}\")\n",
    "most_common_length, frequency_max = lengths_counts.most_common(1)[0]\n",
    "print(f\"Độ dài câu xuất hiện nhiều nhất: {frequency_max}\")\n",
    "least_common_length, frequency_min = lengths_counts.most_common()[-1]\n",
    "print(f\"Độ dài câu xuất hiện ít nhất: {frequency_min}\")"
   ]
  },
  {
   "cell_type": "code",
   "execution_count": 20,
   "metadata": {},
   "outputs": [
    {
     "data": {
      "image/png": "[encoded data removed]",
      "text/plain": [
       "<Figure size 640x480 with 1 Axes>"
      ]
     },
     "metadata": {},
     "output_type": "display_data"
    }
   ],
   "source": [
    "plt.hist(sentences_data_length, bins = 150, edgecolor = \"black\")\n",
    "plt.title(\"Phân bố độ dài câu\")\n",
    "plt.xlabel(\"Độ dài của các câu\")\n",
    "plt.ylabel(\"Số lượng\")\n",
    "plt.show()"
   ]
  },
  {
   "cell_type": "code",
   "execution_count": 28,
   "metadata": {},
   "outputs": [
    {
     "name": "stdout",
     "output_type": "stream",
     "text": [
      "Số phần tử của tập dữ liệu: 17662\n"
     ]
    }
   ],
   "source": [
    "sentences_data_new = [sentences_data[i] for i in range(len(sentences_data)) if len(sentences_data[i]) < 400]\n",
    "print(f\"Số phần tử của tập dữ liệu: {len(sentences_data_new)}\")\n",
    "sentences_data_length_new = [len(sentence) for sentence in sentences_data_new]"
   ]
  },
  {
   "cell_type": "code",
   "execution_count": 29,
   "metadata": {},
   "outputs": [
    {
     "data": {
      "image/png": "[encoded data removed]",
      "text/plain": [
       "<Figure size 640x480 with 1 Axes>"
      ]
     },
     "metadata": {},
     "output_type": "display_data"
    }
   ],
   "source": [
    "plt.hist(sentences_data_length_new, bins = 150, edgecolor = \"black\")\n",
    "plt.title(\"Phân bố độ dài câu\")\n",
    "plt.xlabel(\"Độ dài của các câu\")\n",
    "plt.ylabel(\"Số lượng\")\n",
    "plt.show()"
   ]
  },
  {
   "cell_type": "code",
   "execution_count": 48,
   "metadata": {},
   "outputs": [
    {
     "name": "stderr",
     "output_type": "stream",
     "text": [
      "100%|██████████| 5026/5026 [00:00<00:00, 57850.09it/s]"
     ]
    },
    {
     "name": "stdout",
     "output_type": "stream",
     "text": [
      "['Trang Chính\\n', 'Internet Society\\n', 'Internet Society hay ISOC là một tổ chức quốc tế hoạt động phi lợi nhuận phi chính phủ và bao gồm các thành viên có trình độ chuyên ngành Tổ chức này chú trọng đến tiêu chuẩn giáo dục và các vấn đề về chính sách Với trên 145 tổ chức thành viên và 65000 thành viên cá nhân ISOC bao gồm những con người cụ thể trong cộng đồng Internet Mọi chi tiết có thể tìm thấy tại website của ISOC\\n', 'Internet Society nằm ở gần thủ đô Washington DC Hoa Kỳ và Geneva Thụy Sĩ Số hội viên của nó bao gồm hơn 145 tổ chức thành viên và hơn 65000 cá nhân Thành viên còn có thể tự lập một chi nhánh của tổ chức tùy theo vị trí hoặc sở thích Hiện nay tổ chức có tới 90 chi nhánh trên toàn thế giới\\n', 'Bảo đảm cổ vũ cho sự phát triển mở rộng và sử dụng Internet được thuận lợi nhất cho mọi người trên toàn thế giới\\n', 'Tiếng Việt\\n', 'Tiếng Việt cũng đã được công nhận là một ngôn ngữ dân tộc thiểu số tại Cộng hòa Séc\\n', 'Tổ chức tiêu chuẩn hóa quốc tế đặt mã ngôn ngữ hai chữ cái cho tiếng Việt là vi tiêu chuẩn ISO 6391 và đặt mã ngôn ngữ ba chữ cái cho tiếng Việt là vie tiêu chuẩn ISO 6392 \\n', 'Những ngôn ngữ này có chung một số từ vựng căn bản Thí dụ từ tay trong tiếng Việt tương đương trong tiếng Mường là thay trong tiếng Khmer là đay và trong tiếng Môn là tai\\n', 'Tiếng Việt là ngôn ngữ có nguồn gốc bản địa xuất thân từ nền văn minh nông nghiệp tại nơi mà ngày nay là khu vực phía bắc lưu vực sông Hồng và sông Mã của Việt Nam\\n']\n"
     ]
    },
    {
     "name": "stderr",
     "output_type": "stream",
     "text": [
      "\n"
     ]
    }
   ],
   "source": [
    "corpus_process = remove_punctuation_corpus(train_dataset_new)\n",
    "print(corpus_process[:10])"
   ]
  },
  {
   "cell_type": "markdown",
   "metadata": {},
   "source": [
    "###    **start_prob:** Xác suất để 1 từ là bắt đầu của một câu\n",
    "\n",
    "    P(s) = (số lần câu bắt đầu bởi từ s) / (tổng số câu)\n",
    "###   **trans_prob:** Xác suất để một từ xuất hiện sau một từ\n",
    "    \n",
    "    P(xt = s' | xt-1 = s) = (Số lần xuất hiện của cặp từ ss') / (Số lần xuất hiện của từ s)\n",
    "\n",
    "### **emit_prob:** Xác suất phát sinh, xác suất để 1 từ có có dấu tương ứng với từ có dấu\n",
    "\n",
    "    P(x = o | y = s) = (số lần từ không dấu s tương ứng từ có dấu o) / (Số lượng từ không dấu s)"
   ]
  },
  {
   "cell_type": "code",
   "execution_count": 31,
   "metadata": {},
   "outputs": [],
   "source": [
    "def compute_probabilities(dataset):\n",
    "  start_count = defaultdict(int)\n",
    "  trans_count = defaultdict(lambda: defaultdict(int))\n",
    "  emit_count = defaultdict(lambda: defaultdict(int))\n",
    "  for sentence in tqdm(dataset):\n",
    "    words = sentence.split()\n",
    "    prev_word = None\n",
    "    for idx, word in enumerate(words):\n",
    "      no_diacritic = remove_diacritic(word)\n",
    "      emit_count[no_diacritic][word] += 1\n",
    "      if idx == 0:\n",
    "        start_count[word] += 1\n",
    "      else:\n",
    "        trans_count[prev_word][word] += 1\n",
    "      prev_word = word\n",
    "    start_prob = {k : v / sum(start_count.values()) for k, v in start_count.items()}\n",
    "    trans_prob = {k : {k2 : v2 / sum(v.values()) for k2, v2 in v.items()} for k, v in trans_count.items()}\n",
    "    emit_prob =  {k : {k2 : v2 / sum(v.values()) for k2, v2 in v.items()} for k, v in emit_count.items()}\n",
    "  return start_count, trans_count , emit_count"
   ]
  },
  {
   "cell_type": "code",
   "execution_count": 33,
   "metadata": {},
   "outputs": [
    {
     "name": "stderr",
     "output_type": "stream",
     "text": [
      "100%|██████████| 17850/17850 [42:34<00:00,  6.99it/s]\n"
     ]
    }
   ],
   "source": [
    "start_prob, trans_prob, emit_prob = compute_probabilities(sentences_data)\n",
    "states = defaultdict(list)\n",
    "for word in emit_prob:\n",
    "    states[remove_diacritic(word)].extend(emit_prob[word].keys())"
   ]
  },
  {
   "cell_type": "code",
   "execution_count": 44,
   "metadata": {},
   "outputs": [
    {
     "name": "stdout",
     "output_type": "stream",
     "text": [
      "Chuỗi có dấu: là một tổ chức hoạt động phi lợi nhuận,\n"
     ]
    }
   ],
   "source": [
    "obs = \"la mot to chuc hoat dong phi loi nhuan,\"\n",
    "result = beam_search(obs.split(\" \"), states, start_prob, trans_prob, emit_prob)\n",
    "print(\"Chuỗi có dấu:\", \" \".join(result))"
   ]
  },
  {
   "cell_type": "code",
   "execution_count": 42,
   "metadata": {},
   "outputs": [],
   "source": [
    "with open('probabilities.dill', 'wb') as f:\n",
    "    dill.dump((states, start_prob, trans_prob, emit_prob), f)"
   ]
  },
  {
   "cell_type": "code",
   "execution_count": 45,
   "metadata": {},
   "outputs": [],
   "source": [
    "path = r'D:\\Tài liệu học đại học\\Project1\\Project-1\\probabilities.dill' \n",
    "\n",
    "with open(path, 'rb') as f:\n",
    "    states, start_prob, trans_prob, emit_prob = dill.load(f)"
   ]
  },
  {
   "cell_type": "code",
   "execution_count": 46,
   "metadata": {},
   "outputs": [
    {
     "name": "stdout",
     "output_type": "stream",
     "text": [
      "Chuỗi có dấu: là một tổ chức hoạt động phi lợi nhuận,\n"
     ]
    }
   ],
   "source": [
    "obs = \"la mot to chuc hoat dong phi loi nhuan,\"\n",
    "result = beam_search(obs.split(\" \"), states, start_prob, trans_prob, emit_prob)\n",
    "print(\"Chuỗi có dấu:\", \" \".join(result))"
   ]
  },
  {
   "cell_type": "code",
   "execution_count": null,
   "metadata": {},
   "outputs": [],
   "source": []
  }
 ],
 "metadata": {
  "kernelspec": {
   "display_name": "base",
   "language": "python",
   "name": "python3"
  },
  "language_info": {
   "codemirror_mode": {
    "name": "ipython",
    "version": 3
   },
   "file_extension": ".py",
   "mimetype": "text/x-python",
   "name": "python",
   "nbconvert_exporter": "python",
   "pygments_lexer": "ipython3",
   "version": "3.11.7"
  }
 },
 "nbformat": 4,
 "nbformat_minor": 2
}
