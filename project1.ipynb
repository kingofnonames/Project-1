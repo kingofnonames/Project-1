{
 "cells": [
  {
   "cell_type": "code",
   "execution_count": 25,
   "metadata": {},
   "outputs": [],
   "source": [
    "import re\n",
    "import string\n",
    "from collections import defaultdict\n",
    "import pickle\n",
    "from tqdm import tqdm\n",
    "from unidecode import unidecode\n",
    "import matplotlib.pyplot as plt\n",
    "from collections import Counter\n"
   ]
  },
  {
   "cell_type": "code",
   "execution_count": 3,
   "metadata": {},
   "outputs": [],
   "source": [
    "#Loại bỏ các dấu câu\n",
    "def remove_punctuation(text):\n",
    "  return \"\".join([char for char in text if char not in string.punctuation])"
   ]
  },
  {
   "cell_type": "code",
   "execution_count": 4,
   "metadata": {},
   "outputs": [
    {
     "data": {
      "text/plain": [
       "'Kiểm tra thử loại bỏ các dấu câu Ngày mai trời lại sáng'"
      ]
     },
     "execution_count": 4,
     "metadata": {},
     "output_type": "execute_result"
    }
   ],
   "source": [
    "sentence = \"Kiểm tra thử loại bỏ các dấu câu!!! Ngày mai, trời lại sáng\"\n",
    "remove_punctuation(sentence)"
   ]
  },
  {
   "cell_type": "code",
   "execution_count": 5,
   "metadata": {},
   "outputs": [],
   "source": [
    "def remove_punctuation_corpus(corpus):\n",
    "  corpus_process = []\n",
    "  for sentence in tqdm(corpus):\n",
    "    corpus_process.append(remove_punctuation(sentence))\n",
    "  return corpus_process"
   ]
  },
  {
   "cell_type": "code",
   "execution_count": 6,
   "metadata": {},
   "outputs": [],
   "source": [
    "def remove_diacritic(text):\n",
    "    \"\"\"Hàm loại bỏ dấu tiếng Việt\"\"\"\n",
    "    DIACRITIC_MAP = {\n",
    "        \"áàảãạăắằẳẵặâấầẩẫậ\": \"a\",\n",
    "        \"ÁÀẢÃẠĂẮẰẲẴẶÂẤẦẨẪẬ\": \"A\",\n",
    "        \"éèẻẽẹêếềểễệ\": \"e\",\n",
    "        \"ÉÈẺẼẸÊẾỀỂỄỆ\": \"E\",\n",
    "        \"íìỉĩị\": \"i\",\n",
    "        \"ÍÌỈĨỊ\": \"I\",\n",
    "        \"óòỏõọôốồổỗộơớờởỡợ\": \"o\",\n",
    "        \"ÓÒỎÕỌÔỐỒỔỖỘƠỚỜỞỠỢ\": \"O\",\n",
    "        \"úùủũụưứừửữự\": \"u\",\n",
    "        \"ÚÙỦŨỤƯỨỪỬỮỰ\": \"U\",\n",
    "        \"ýỳỷỹỵ\": \"y\",\n",
    "        \"ÝỲỶỸỴ\": \"Y\",\n",
    "        \"đ\": \"d\",\n",
    "        \"Đ\": \"D\",\n",
    "    }\n",
    "    for accents, char in DIACRITIC_MAP.items():\n",
    "        text = re.sub(f\"[{accents}]\", char, text)\n",
    "    return text"
   ]
  },
  {
   "cell_type": "code",
   "execution_count": 9,
   "metadata": {},
   "outputs": [],
   "source": [
    "file_path = 'train_ipt_500k.pkl'\n",
    "with open(file_path, 'rb') as f:\n",
    "    train_ipt_500k = pickle.load(f)"
   ]
  },
  {
   "cell_type": "code",
   "execution_count": 10,
   "metadata": {},
   "outputs": [
    {
     "name": "stderr",
     "output_type": "stream",
     "text": [
      "100%|██████████| 7777/7777 [00:00<00:00, 33234.81it/s]"
     ]
    },
    {
     "name": "stdout",
     "output_type": "stream",
     "text": [
      "['Trang Chính\\n', 'Internet Society\\n', 'Internet Society hay ISOC là một tổ chức quốc tế hoạt động phi lợi nhuận phi chính phủ và bao gồm các thành viên có trình độ chuyên ngành Tổ chức này chú trọng đến tiêu chuẩn giáo dục và các vấn đề về chính sách Với trên 145 tổ chức thành viên và 65000 thành viên cá nhân ISOC bao gồm những con người cụ thể trong cộng đồng Internet Mọi chi tiết có thể tìm thấy tại website của ISOC\\n', 'Internet Society nằm ở gần thủ đô Washington DC Hoa Kỳ và Geneva Thụy Sĩ Số hội viên của nó bao gồm hơn 145 tổ chức thành viên và hơn 65000 cá nhân Thành viên còn có thể tự lập một chi nhánh của tổ chức tùy theo vị trí hoặc sở thích Hiện nay tổ chức có tới 90 chi nhánh trên toàn thế giới\\n', 'Bảo đảm cổ vũ cho sự phát triển mở rộng và sử dụng Internet được thuận lợi nhất cho mọi người trên toàn thế giới\\n', 'Tiếng Việt\\n', 'Tiếng Việt được chính thức ghi nhận trong Hiến pháp nước Cộng hòa xã hội chủ nghĩa Việt Nam 2013 tại Chương I Điều 5 Mục 3 là ngôn ngữ quốc gia của Việt Nam  Tiếng Việt bao gồm cách phát âm tiếng Việt và chữ Quốc ngữ để viết Tuy nhiên hiện chưa có bất kỳ văn bản nào ở cấp nhà nước quy định giọng chuẩn và quốc tự của tiếng Việt  Hiện nay phần lớn các văn bản trong nước được viết theo những Quy định về chính tả tiếng Việt và về thuật ngữ tiếng Việt áp dụng cho các sách giáo khoa báo và văn bản của ngành giáo dục nêu tại Quyết định của Bộ Giáo dục số 240QĐ ngày 5 tháng 3 năm 1984 do những người thụ hưởng giáo dục đó sau này ra làm việc trong mọi lĩnh vực xã hội\\n', 'Tiếng Việt cũng đã được công nhận là một ngôn ngữ dân tộc thiểu số tại Cộng hòa Séc\\n', 'Tổ chức tiêu chuẩn hóa quốc tế đặt mã ngôn ngữ hai chữ cái cho tiếng Việt là vi tiêu chuẩn ISO 6391 và đặt mã ngôn ngữ ba chữ cái cho tiếng Việt là vie tiêu chuẩn ISO 6392 \\n', 'Những ngôn ngữ này có chung một số từ vựng căn bản Thí dụ từ tay trong tiếng Việt tương đương trong tiếng Mường là thay trong tiếng Khmer là đay và trong tiếng Môn là tai\\n']\n"
     ]
    },
    {
     "name": "stderr",
     "output_type": "stream",
     "text": [
      "\n"
     ]
    }
   ],
   "source": [
    "train_dataset = train_ipt_500k[:7777]\n",
    "corpus_process = remove_punctuation_corpus(train_dataset)\n",
    "print(corpus_process[:10])\n"
   ]
  },
  {
   "cell_type": "code",
   "execution_count": 47,
   "metadata": {},
   "outputs": [],
   "source": [
    "train_dataset = train_ipt_500k[:7777]\n"
   ]
  },
  {
   "cell_type": "code",
   "execution_count": 39,
   "metadata": {},
   "outputs": [],
   "source": [
    "train_dataset_length = [len(sentence) for sentence in train_dataset]\n",
    "lengths_counts = Counter(train_dataset_length)"
   ]
  },
  {
   "cell_type": "code",
   "execution_count": 40,
   "metadata": {},
   "outputs": [
    {
     "name": "stdout",
     "output_type": "stream",
     "text": [
      "Độ dài trung bình của các câu: 433.95473833097594\n",
      "Độ dài câu dài nhất: 2654\n",
      "Độ dài câu ngắn nhất: 2\n",
      "Độ dài câu xuất hiện nhiều nhất: 37\n",
      "Độ dài câu xuất hiện ít nhất: 1\n"
     ]
    }
   ],
   "source": [
    "print(f\"Độ dài trung bình của các câu: {sum(train_dataset_length) / len(train_dataset)}\")\n",
    "print(f\"Độ dài câu dài nhất: {max(train_dataset_length)}\")\n",
    "print(f\"Độ dài câu ngắn nhất: {min(train_dataset_length)}\")\n",
    "most_common_length, frequency_max = lengths_counts.most_common(1)[0]\n",
    "print(f\"Độ dài câu xuất hiện nhiều nhất: {frequency_max}\")\n",
    "least_common_length, frequency_min = lengths_counts.most_common()[-1]\n",
    "print(f\"Độ dài câu xuất hiện ít nhất: {frequency_min}\")"
   ]
  },
  {
   "cell_type": "code",
   "execution_count": 41,
   "metadata": {},
   "outputs": [
    {
     "data": {
      "image/png": "[encoded data removed]",
      "text/plain": [
       "<Figure size 640x480 with 1 Axes>"
      ]
     },
     "metadata": {},
     "output_type": "display_data"
    }
   ],
   "source": [
    "plt.hist(train_dataset_length, bins = 150, edgecolor = \"black\")\n",
    "plt.title(\"Phân bố độ dài câu\")\n",
    "plt.xlabel(\"Độ dài của các câu\")\n",
    "plt.ylabel(\"Số lượng\")\n",
    "plt.show()"
   ]
  },
  {
   "cell_type": "code",
   "execution_count": 43,
   "metadata": {},
   "outputs": [
    {
     "name": "stdout",
     "output_type": "stream",
     "text": [
      "Số phần tử của tập dữ liệu: 7777\n"
     ]
    }
   ],
   "source": [
    "train_dataset_new = [train_dataset[i] for i in range(len(train_dataset)) if len(train_dataset[i]) < 500]\n",
    "print(f\"Số phần tử của tập dữ liệu: {len(train_dataset)}\")\n",
    "train_dataset_length_new = [len(sentence) for sentence in train_dataset_new]"
   ]
  },
  {
   "cell_type": "code",
   "execution_count": 46,
   "metadata": {},
   "outputs": [
    {
     "data": {
      "image/png": "[encoded data removed]",
      "text/plain": [
       "<Figure size 640x480 with 1 Axes>"
      ]
     },
     "metadata": {},
     "output_type": "display_data"
    }
   ],
   "source": [
    "plt.hist(train_dataset_length_new, bins = 150, edgecolor = \"black\")\n",
    "plt.title(\"Phân bố độ dài câu\")\n",
    "plt.xlabel(\"Độ dài của các câu\")\n",
    "plt.ylabel(\"Số lượng\")\n",
    "plt.ylim(0, 100)\n",
    "plt.show()"
   ]
  },
  {
   "cell_type": "code",
   "execution_count": 48,
   "metadata": {},
   "outputs": [
    {
     "name": "stderr",
     "output_type": "stream",
     "text": [
      "100%|██████████| 5026/5026 [00:00<00:00, 57850.09it/s]"
     ]
    },
    {
     "name": "stdout",
     "output_type": "stream",
     "text": [
      "['Trang Chính\\n', 'Internet Society\\n', 'Internet Society hay ISOC là một tổ chức quốc tế hoạt động phi lợi nhuận phi chính phủ và bao gồm các thành viên có trình độ chuyên ngành Tổ chức này chú trọng đến tiêu chuẩn giáo dục và các vấn đề về chính sách Với trên 145 tổ chức thành viên và 65000 thành viên cá nhân ISOC bao gồm những con người cụ thể trong cộng đồng Internet Mọi chi tiết có thể tìm thấy tại website của ISOC\\n', 'Internet Society nằm ở gần thủ đô Washington DC Hoa Kỳ và Geneva Thụy Sĩ Số hội viên của nó bao gồm hơn 145 tổ chức thành viên và hơn 65000 cá nhân Thành viên còn có thể tự lập một chi nhánh của tổ chức tùy theo vị trí hoặc sở thích Hiện nay tổ chức có tới 90 chi nhánh trên toàn thế giới\\n', 'Bảo đảm cổ vũ cho sự phát triển mở rộng và sử dụng Internet được thuận lợi nhất cho mọi người trên toàn thế giới\\n', 'Tiếng Việt\\n', 'Tiếng Việt cũng đã được công nhận là một ngôn ngữ dân tộc thiểu số tại Cộng hòa Séc\\n', 'Tổ chức tiêu chuẩn hóa quốc tế đặt mã ngôn ngữ hai chữ cái cho tiếng Việt là vi tiêu chuẩn ISO 6391 và đặt mã ngôn ngữ ba chữ cái cho tiếng Việt là vie tiêu chuẩn ISO 6392 \\n', 'Những ngôn ngữ này có chung một số từ vựng căn bản Thí dụ từ tay trong tiếng Việt tương đương trong tiếng Mường là thay trong tiếng Khmer là đay và trong tiếng Môn là tai\\n', 'Tiếng Việt là ngôn ngữ có nguồn gốc bản địa xuất thân từ nền văn minh nông nghiệp tại nơi mà ngày nay là khu vực phía bắc lưu vực sông Hồng và sông Mã của Việt Nam\\n']\n"
     ]
    },
    {
     "name": "stderr",
     "output_type": "stream",
     "text": [
      "\n"
     ]
    }
   ],
   "source": [
    "corpus_process = remove_punctuation_corpus(train_dataset_new)\n",
    "print(corpus_process[:10])"
   ]
  },
  {
   "cell_type": "markdown",
   "metadata": {},
   "source": [
    "###    **start_prob:** Xác suất để 1 từ là bắt đầu của một câu\n",
    "\n",
    "    P(s) = (số lần câu bắt đầu bởi từ s) / (tổng số câu)\n",
    "###   **trans_prob:** Xác suất để một từ xuất hiện sau một từ\n",
    "    \n",
    "    P(xt = s' | xt-1 = s) = (Số lần xuất hiện của cặp từ ss') / (Số lần xuất hiện của từ s)\n",
    "\n",
    "### **emit_prob:** Xác suất phát sinh, xác suất để 1 từ có có dấu tương ứng với từ có dấu\n",
    "\n",
    "    P(x = o | y = s) = (số lần từ không dấu s tương ứng từ có dấu o) / (Số lượng từ không dấu s)"
   ]
  },
  {
   "cell_type": "code",
   "execution_count": 12,
   "metadata": {},
   "outputs": [],
   "source": [
    "def compute_probabilities(dataset):\n",
    "  start_count = defaultdict(int)\n",
    "  trans_count = defaultdict(lambda: defaultdict(int))\n",
    "  emit_count = defaultdict(lambda: defaultdict(int))\n",
    "  for sentence in tqdm(dataset):\n",
    "    words = sentence.split()\n",
    "    prev_word = None\n",
    "    for idx, word in enumerate(words):\n",
    "      no_diacritic = remove_diacritic(word)\n",
    "      emit_count[no_diacritic][word] += 1\n",
    "      if idx == 0:\n",
    "        start_count[word] += 1\n",
    "      else:\n",
    "        trans_count[prev_word][word] += 1\n",
    "      prev_word = word\n",
    "    start_prob = {k : v / sum(start_count.values()) for k, v in start_count.items()}\n",
    "    trans_prob = {k : {k2 : v2 / sum(v.values()) for k2, v2 in v.items()} for k, v in trans_count.items()}\n",
    "    emit_prob =  {k : {k2 : v2 / sum(v.values()) for k2, v2 in v.items()} for k, v in emit_count.items()}\n",
    "  return start_count, trans_count , emit_count"
   ]
  },
  {
   "cell_type": "code",
   "execution_count": 13,
   "metadata": {},
   "outputs": [],
   "source": [
    "def beam_search(obs, states, start_prob, trans_prob, emit_prob, beam_width = 5):\n",
    "  T = len(obs)\n",
    "  dp = [{} for _ in range(T)]\n",
    "  path = {}\n",
    "\n",
    "  for state in states.get(obs[0], [obs[0]]):\n",
    "    dp[0][state] = start_prob.get(state, 1e-6) * emit_prob.get(state, {}).get(obs[0], 1e-6)\n",
    "    path[state] = [state]\n",
    "\n",
    "  for t in range(1, T):\n",
    "    new_path = {}\n",
    "\n",
    "    candidates = []\n",
    "    for current_state in states.get(obs[t], [obs[t]]):\n",
    "      for prev_state in dp[t - 1]:\n",
    "        prob = dp[t - 1][prev_state] * trans_prob.get(prev_state, {}).get(current_state, 1e-6) * emit_prob.get(current_state, {}).get(obs[t], 1e-6)\n",
    "        candidates.append((prob, prev_state, current_state))\n",
    "\n",
    "    candidates.sort(reverse=True, key=lambda x: x[0])\n",
    "    candidates = candidates[:beam_width]\n",
    "    for prob, prev_state, current_state in candidates:\n",
    "      dp[t][current_state] = prob\n",
    "      if current_state not in new_path:\n",
    "        new_path[current_state] = path[prev_state] + [current_state]\n",
    "    path = new_path\n",
    "  (prob, best_final_state) = max((dp[T - 1][state], state) for state in dp[T - 1])\n",
    "  return path[best_final_state]\n"
   ]
  },
  {
   "cell_type": "code",
   "execution_count": 49,
   "metadata": {},
   "outputs": [
    {
     "name": "stderr",
     "output_type": "stream",
     "text": [
      "100%|██████████| 5026/5026 [05:13<00:00, 16.03it/s]\n"
     ]
    }
   ],
   "source": [
    "start_prob, trans_prob, emit_prob = compute_probabilities(corpus_process)\n",
    "states = defaultdict(list)\n",
    "for word in emit_prob:\n",
    "    states[remove_diacritic(word)].extend(emit_prob[word].keys())"
   ]
  },
  {
   "cell_type": "code",
   "execution_count": 52,
   "metadata": {},
   "outputs": [
    {
     "name": "stdout",
     "output_type": "stream",
     "text": [
      "Chuỗi có dấu: là một tổ chức hoạt động phi lợi nhuận\n"
     ]
    }
   ],
   "source": [
    "obs = \"la mot to chuc hoat dong phi loi nhuan\"\n",
    "result = beam_search(obs.split(\" \"), states, start_prob, trans_prob, emit_prob)\n",
    "print(\"Chuỗi có dấu:\", \" \".join(result))"
   ]
  },
  {
   "cell_type": "code",
   "execution_count": null,
   "metadata": {},
   "outputs": [],
   "source": []
  }
 ],
 "metadata": {
  "kernelspec": {
   "display_name": "base",
   "language": "python",
   "name": "python3"
  },
  "language_info": {
   "codemirror_mode": {
    "name": "ipython",
    "version": 3
   },
   "file_extension": ".py",
   "mimetype": "text/x-python",
   "name": "python",
   "nbconvert_exporter": "python",
   "pygments_lexer": "ipython3",
   "version": "3.11.7"
  }
 },
 "nbformat": 4,
 "nbformat_minor": 2
}
