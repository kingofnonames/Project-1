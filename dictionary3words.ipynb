{
 "cells": [
  {
   "cell_type": "code",
   "execution_count": 1,
   "metadata": {},
   "outputs": [],
   "source": [
    "import re\n",
    "import string\n",
    "from collections import defaultdict\n",
    "import pickle\n",
    "from tqdm import tqdm\n",
    "import matplotlib.pyplot as plt\n",
    "from collections import Counter\n",
    "import json\n",
    "import dill\n",
    "import random\n",
    "from utils import split_into_sentences\n"
   ]
  },
  {
   "cell_type": "code",
   "execution_count": 2,
   "metadata": {},
   "outputs": [
    {
     "name": "stdout",
     "output_type": "stream",
     "text": [
      "['Python is amazing.', 'It is versatile!', 'Do you like Python?']\n"
     ]
    }
   ],
   "source": [
    "paragraph = \"Python is amazing. It is versatile! Do you like Python?\"\n",
    "result = split_into_sentences(paragraph)\n",
    "print(result)"
   ]
  },
  {
   "cell_type": "code",
   "execution_count": 2,
   "metadata": {},
   "outputs": [],
   "source": [
    "#Loại bỏ các dấu câu\n",
    "def remove_punctuation(text):\n",
    "  return \"\".join([char for char in text if char not in string.punctuation])"
   ]
  },
  {
   "cell_type": "code",
   "execution_count": 6,
   "metadata": {},
   "outputs": [
    {
     "data": {
      "text/plain": [
       "'Kiểm tra thử loại bỏ các dấu câu Ngày mai trời lại sáng'"
      ]
     },
     "execution_count": 6,
     "metadata": {},
     "output_type": "execute_result"
    }
   ],
   "source": [
    "sentence = \"Kiểm tra thử loại bỏ các dấu câu!!! Ngày mai, trời lại sáng\"\n",
    "remove_punctuation(sentence)"
   ]
  },
  {
   "cell_type": "code",
   "execution_count": 3,
   "metadata": {},
   "outputs": [],
   "source": [
    "def remove_punctuation_corpus(corpus):\n",
    "  corpus_process = []\n",
    "  for sentence in tqdm(corpus):\n",
    "    corpus_process.append(remove_punctuation(sentence))\n",
    "  return corpus_process"
   ]
  },
  {
   "cell_type": "code",
   "execution_count": 4,
   "metadata": {},
   "outputs": [],
   "source": [
    "def remove_diacritic(text):\n",
    "    \"\"\"Hàm loại bỏ dấu tiếng Việt\"\"\"\n",
    "    DIACRITIC_MAP = {\n",
    "        \"áàảãạăắằẳẵặâấầẩẫậ\": \"a\",\n",
    "        \"ÁÀẢÃẠĂẮẰẲẴẶÂẤẦẨẪẬ\": \"A\",\n",
    "        \"éèẻẽẹêếềểễệ\": \"e\",\n",
    "        \"ÉÈẺẼẸÊẾỀỂỄỆ\": \"E\",\n",
    "        \"íìỉĩị\": \"i\",\n",
    "        \"ÍÌỈĨỊ\": \"I\",\n",
    "        \"óòỏõọôốồổỗộơớờởỡợ\": \"o\",\n",
    "        \"ÓÒỎÕỌÔỐỒỔỖỘƠỚỜỞỠỢ\": \"O\",\n",
    "        \"úùủũụưứừửữự\": \"u\",\n",
    "        \"ÚÙỦŨỤƯỨỪỬỮỰ\": \"U\",\n",
    "        \"ýỳỷỹỵ\": \"y\",\n",
    "        \"ÝỲỶỸỴ\": \"Y\",\n",
    "        \"đ\": \"d\",\n",
    "        \"Đ\": \"D\",\n",
    "    }\n",
    "    for accents, char in DIACRITIC_MAP.items():\n",
    "        text = re.sub(f\"[{accents}]\", char, text)\n",
    "    return text"
   ]
  },
  {
   "cell_type": "code",
   "execution_count": 5,
   "metadata": {},
   "outputs": [],
   "source": [
    "file_path = 'train_ipt_500k.pkl'\n",
    "with open(file_path, 'rb') as f:\n",
    "    train_ipt_500k = pickle.load(f)"
   ]
  },
  {
   "cell_type": "code",
   "execution_count": 12,
   "metadata": {},
   "outputs": [
    {
     "data": {
      "text/plain": [
       "['Trang Chính\\n',\n",
       " 'Internet Society\\n',\n",
       " 'Internet Society hay ISOC là một tổ chức quốc tế hoạt động phi lợi nhuận, phi chính phủ và bao gồm các thành viên có trình độ chuyên ngành. Tổ chức này chú trọng đến: tiêu chuẩn, giáo dục và các vấn đề về chính sách. Với trên 145 tổ chức thành viên và 65.000 thành viên cá nhân, ISOC bao gồm những con người cụ thể trong cộng đồng Internet. Mọi chi tiết có thể tìm thấy tại website của ISOC.\\n',\n",
       " 'Internet Society nằm ở gần thủ đô Washington, DC, Hoa Kỳ và Geneva, Thụy Sĩ. Số hội viên của nó bao gồm hơn 145 tổ chức thành viên và hơn 65.000 cá nhân. Thành viên còn có thể tự lập một chi nhánh của tổ chức tùy theo vị trí hoặc sở thích. Hiện nay tổ chức có tới 90 chi nhánh trên toàn thế giới.\\n',\n",
       " 'Bảo đảm, cổ vũ cho sự phát triển, mở rộng và sử dụng Internet được thuận lợi nhất cho mọi người trên toàn thế giới.\\n',\n",
       " 'Tiếng Việt\\n',\n",
       " 'Tiếng Việt được chính thức ghi nhận trong Hiến pháp nước Cộng hòa xã hội chủ nghĩa Việt Nam 2013, tại Chương I Điều 5 Mục 3, là ngôn ngữ quốc gia của Việt Nam . Tiếng Việt bao gồm cách phát âm tiếng Việt và chữ Quốc ngữ để viết. Tuy nhiên, hiện chưa có bất kỳ văn bản nào ở cấp nhà nước quy định \"giọng chuẩn\" và \"quốc tự\" của tiếng Việt . Hiện nay phần lớn các văn bản trong nước được viết theo những \"\"Quy định về chính tả tiếng Việt và về thuật ngữ tiếng Việt\" áp dụng cho các sách giáo khoa, báo và văn bản của ngành giáo dục\" nêu tại Quyết định của Bộ Giáo dục số 240/QĐ ngày 5 tháng 3 năm 1984 do những người thụ hưởng giáo dục đó sau này ra làm việc trong mọi lĩnh vực xã hội.\\n',\n",
       " 'Tiếng Việt cũng đã được công nhận là một ngôn ngữ dân tộc thiểu số tại Cộng hòa Séc.\\n',\n",
       " 'Tổ chức tiêu chuẩn hóa quốc tế đặt mã ngôn ngữ hai chữ cái cho tiếng Việt là \"vi\" (tiêu chuẩn ISO 639-1) và đặt mã ngôn ngữ ba chữ cái cho tiếng Việt là \"vie\" (tiêu chuẩn ISO 639-2) .\\n',\n",
       " 'Những ngôn ngữ này có chung một số từ vựng căn bản. Thí dụ, từ \"tay\" trong tiếng Việt tương đương trong tiếng Mường là \"thay\", trong tiếng Khmer là \"đay\" và trong tiếng Môn là \"tai\".\\n']"
      ]
     },
     "execution_count": 12,
     "metadata": {},
     "output_type": "execute_result"
    }
   ],
   "source": [
    "train_ipt_500k[:10]"
   ]
  },
  {
   "cell_type": "code",
   "execution_count": 6,
   "metadata": {},
   "outputs": [
    {
     "name": "stdout",
     "output_type": "stream",
     "text": [
      "['Trang Chính', 'Internet Society', 'Internet Society hay ISOC là một tổ chức quốc tế hoạt động phi lợi nhuận, phi chính phủ và bao gồm các thành viên có trình độ chuyên ngành.', 'Tổ chức này chú trọng đến: tiêu chuẩn, giáo dục và các vấn đề về chính sách.', 'Với trên 145 tổ chức thành viên và 65.000 thành viên cá nhân, ISOC bao gồm những con người cụ thể trong cộng đồng Internet.', 'Mọi chi tiết có thể tìm thấy tại website của ISOC.', 'Internet Society nằm ở gần thủ đô Washington, DC, Hoa Kỳ và Geneva, Thụy Sĩ.', 'Số hội viên của nó bao gồm hơn 145 tổ chức thành viên và hơn 65.000 cá nhân.', 'Thành viên còn có thể tự lập một chi nhánh của tổ chức tùy theo vị trí hoặc sở thích.', 'Hiện nay tổ chức có tới 90 chi nhánh trên toàn thế giới.']\n"
     ]
    }
   ],
   "source": [
    "dataset = train_ipt_500k[:5678]\n",
    "sentences_data = [sent for sentence in dataset for sent in split_into_sentences(sentence)]\n",
    "#remove_punctuation_corpus(dataset)\n",
    "print(sentences_data[:10])\n"
   ]
  },
  {
   "cell_type": "code",
   "execution_count": 14,
   "metadata": {},
   "outputs": [
    {
     "name": "stdout",
     "output_type": "stream",
     "text": [
      "17850\n"
     ]
    }
   ],
   "source": [
    "print(len(sentences_data))"
   ]
  },
  {
   "cell_type": "code",
   "execution_count": 16,
   "metadata": {},
   "outputs": [],
   "source": [
    "sentences_data_length = [len(sentence) for sentence in sentences_data]\n",
    "lengths_counts = Counter(sentences_data_length)"
   ]
  },
  {
   "cell_type": "code",
   "execution_count": 17,
   "metadata": {},
   "outputs": [
    {
     "name": "stdout",
     "output_type": "stream",
     "text": [
      "Tổng số lượng câu là: 17850\n",
      "Độ dài trung bình của các câu: 138.46935574229693\n",
      "Độ dài câu dài nhất: 896\n",
      "Độ dài câu ngắn nhất: 1\n",
      "Độ dài câu xuất hiện nhiều nhất: 128\n",
      "Độ dài câu xuất hiện ít nhất: 1\n"
     ]
    }
   ],
   "source": [
    "print(f\"Tổng số lượng câu là: {len(sentences_data)}\")\n",
    "print(f\"Độ dài trung bình của các câu: {sum(sentences_data_length) / len(sentences_data)}\")\n",
    "print(f\"Độ dài câu dài nhất: {max(sentences_data_length)}\")\n",
    "print(f\"Độ dài câu ngắn nhất: {min(sentences_data_length)}\")\n",
    "most_common_length, frequency_max = lengths_counts.most_common(1)[0]\n",
    "print(f\"Độ dài câu xuất hiện nhiều nhất: {frequency_max}\")\n",
    "least_common_length, frequency_min = lengths_counts.most_common()[-1]\n",
    "print(f\"Độ dài câu xuất hiện ít nhất: {frequency_min}\")"
   ]
  },
  {
   "cell_type": "code",
   "execution_count": 18,
   "metadata": {},
   "outputs": [
    {
     "data": {
      "image/png": "[encoded data removed]",
      "text/plain": [
       "<Figure size 640x480 with 1 Axes>"
      ]
     },
     "metadata": {},
     "output_type": "display_data"
    }
   ],
   "source": [
    "plt.hist(sentences_data_length, bins = 150, edgecolor = \"black\")\n",
    "plt.title(\"Phân bố độ dài câu\")\n",
    "plt.xlabel(\"Độ dài của các câu\")\n",
    "plt.ylabel(\"Số lượng\")\n",
    "plt.show()"
   ]
  },
  {
   "cell_type": "code",
   "execution_count": 19,
   "metadata": {},
   "outputs": [
    {
     "name": "stdout",
     "output_type": "stream",
     "text": [
      "Số phần tử của tập dữ liệu: 17662\n"
     ]
    }
   ],
   "source": [
    "sentences_data_new = [sentences_data[i] for i in range(len(sentences_data)) if len(sentences_data[i]) < 400]\n",
    "print(f\"Số phần tử của tập dữ liệu: {len(sentences_data_new)}\")\n",
    "sentences_data_length_new = [len(sentence) for sentence in sentences_data_new]"
   ]
  },
  {
   "cell_type": "code",
   "execution_count": 20,
   "metadata": {},
   "outputs": [
    {
     "data": {
      "image/png": "[encoded data removed]",
      "text/plain": [
       "<Figure size 640x480 with 1 Axes>"
      ]
     },
     "metadata": {},
     "output_type": "display_data"
    }
   ],
   "source": [
    "plt.hist(sentences_data_length_new, bins = 150, edgecolor = \"black\")\n",
    "plt.title(\"Phân bố độ dài câu\")\n",
    "plt.xlabel(\"Độ dài của các câu\")\n",
    "plt.ylabel(\"Số lượng\")\n",
    "plt.show()"
   ]
  },
  {
   "cell_type": "code",
   "execution_count": 8,
   "metadata": {},
   "outputs": [],
   "source": [
    "def compute_probabilities(dataset, windows = 3):\n",
    "  count_arrivals = defaultdict(lambda : defaultdict(int))\n",
    "  for sentence in tqdm(dataset):\n",
    "    words = sentence.split()\n",
    "    if len(words) < 3: continue\n",
    "    for i in range(0, len(words) - 2):\n",
    "      no_diacritic = remove_diacritic(\" \".join(words[i : i + 3]))\n",
    "      count_arrivals[no_diacritic][\" \".join(words[i : i + 3])] += 1\n",
    "  count_prob = {k : {k2 : v2 / sum(v.values()) for k2, v2 in v.items()} for k, v in count_arrivals.items()}\n",
    "  return count_prob"
   ]
  },
  {
   "cell_type": "code",
   "execution_count": 22,
   "metadata": {},
   "outputs": [
    {
     "name": "stderr",
     "output_type": "stream",
     "text": [
      "100%|██████████| 17850/17850 [00:07<00:00, 2547.87it/s]\n"
     ]
    }
   ],
   "source": [
    "count_prob = compute_probabilities(sentences_data)"
   ]
  },
  {
   "cell_type": "code",
   "execution_count": 23,
   "metadata": {},
   "outputs": [
    {
     "data": {
      "text/plain": [
       "{'Internet Society hay': {'Internet Society hay': 1.0},\n",
       " 'Society hay ISOC': {'Society hay ISOC': 1.0},\n",
       " 'hay ISOC la': {'hay ISOC là': 1.0},\n",
       " 'ISOC la mot': {'ISOC là một': 1.0},\n",
       " 'la mot to': {'là một tổ': 0.875, 'là một tô': 0.125},\n",
       " 'mot to chuc': {'một tổ chức': 1.0},\n",
       " 'to chuc quoc': {'tổ chức quốc': 1.0},\n",
       " 'chuc quoc te': {'chức quốc tế': 1.0},\n",
       " 'quoc te hoat': {'quốc tế hoạt': 1.0},\n",
       " 'te hoat dong': {'tế hoạt động': 1.0},\n",
       " 'hoat dong phi': {'hoạt động phi': 1.0},\n",
       " 'dong phi loi': {'động phi lợi': 1.0},\n",
       " 'phi loi nhuan,': {'phi lợi nhuận,': 1.0},\n",
       " 'loi nhuan, phi': {'lợi nhuận, phi': 1.0},\n",
       " 'nhuan, phi chinh': {'nhuận, phi chính': 1.0},\n",
       " 'phi chinh phu': {'phi chính phủ': 1.0},\n",
       " 'chinh phu va': {'chính phủ và': 1.0},\n",
       " 'phu va bao': {'phủ và bao': 1.0},\n",
       " 'va bao gom': {'và bao gồm': 1.0},\n",
       " 'bao gom cac': {'bao gồm các': 1.0},\n",
       " 'gom cac thanh': {'gồm các thành': 0.6666666666666666,\n",
       "  'gồm các thanh': 0.3333333333333333},\n",
       " 'cac thanh vien': {'các thành viên': 1.0},\n",
       " 'thanh vien co': {'thành viên có': 0.6666666666666666,\n",
       "  'thành viên cơ': 0.3333333333333333},\n",
       " 'vien co trinh': {'viên có trình': 1.0},\n",
       " 'co trinh do': {'có trình độ': 1.0},\n",
       " 'trinh do chuyen': {'trình độ chuyên': 1.0},\n",
       " 'do chuyen nganh.': {'độ chuyên ngành.': 1.0},\n",
       " 'To chuc nay': {'Tổ chức này': 1.0},\n",
       " 'chuc nay chu': {'chức này chú': 1.0},\n",
       " 'nay chu trong': {'này chú trọng': 1.0},\n",
       " 'chu trong den:': {'chú trọng đến:': 1.0},\n",
       " 'trong den: tieu': {'trọng đến: tiêu': 1.0},\n",
       " 'den: tieu chuan,': {'đến: tiêu chuẩn,': 1.0},\n",
       " 'tieu chuan, giao': {'tiêu chuẩn, giáo': 1.0},\n",
       " 'chuan, giao duc': {'chuẩn, giáo dục': 1.0},\n",
       " 'giao duc va': {'giáo dục và': 1.0},\n",
       " 'duc va cac': {'dục và các': 1.0},\n",
       " 'va cac van': {'và các vấn': 0.5, 'và các văn': 0.5},\n",
       " 'cac van de': {'các vấn đề': 1.0},\n",
       " 'van de ve': {'vấn đề về': 1.0},\n",
       " 'de ve chinh': {'đề về chính': 1.0},\n",
       " 've chinh sach.': {'về chính sách.': 1.0},\n",
       " 'Voi tren 145': {'Với trên 145': 1.0},\n",
       " 'tren 145 to': {'trên 145 tổ': 1.0},\n",
       " '145 to chuc': {'145 tổ chức': 1.0},\n",
       " 'to chuc thanh': {'tổ chức thành': 0.9090909090909091,\n",
       "  'tổ chức thanh': 0.09090909090909091},\n",
       " 'chuc thanh vien': {'chức thành viên': 1.0},\n",
       " 'thanh vien va': {'thành viên và': 1.0},\n",
       " 'vien va 65.000': {'viên và 65.000': 1.0},\n",
       " 'va 65.000 thanh': {'và 65.000 thành': 1.0},\n",
       " '65.000 thanh vien': {'65.000 thành viên': 1.0},\n",
       " 'thanh vien ca': {'thành viên cá': 1.0},\n",
       " 'vien ca nhan,': {'viên cá nhân,': 1.0},\n",
       " 'ca nhan, ISOC': {'cá nhân, ISOC': 1.0},\n",
       " 'nhan, ISOC bao': {'nhân, ISOC bao': 1.0},\n",
       " 'ISOC bao gom': {'ISOC bao gồm': 1.0},\n",
       " 'bao gom nhung': {'bao gồm những': 1.0},\n",
       " 'gom nhung con': {'gồm những con': 1.0},\n",
       " 'nhung con nguoi': {'những con người': 1.0},\n",
       " 'con nguoi cu': {'con người cụ': 1.0},\n",
       " 'nguoi cu the': {'người cụ thể': 1.0},\n",
       " 'cu the trong': {'cụ thể trong': 1.0},\n",
       " 'the trong cong': {'thể trong cộng': 1.0},\n",
       " 'trong cong dong': {'trong cộng đồng': 1.0},\n",
       " 'cong dong Internet.': {'cộng đồng Internet.': 1.0},\n",
       " 'Moi chi tiet': {'Mọi chi tiết': 1.0},\n",
       " 'chi tiet co': {'chi tiết có': 1.0},\n",
       " 'tiet co the': {'tiết có thể': 1.0},\n",
       " 'co the tim': {'có thể tìm': 1.0},\n",
       " 'the tim thay': {'thể tìm thấy': 1.0},\n",
       " 'tim thay tai': {'tìm thấy tại': 1.0},\n",
       " 'thay tai website': {'thấy tại website': 1.0},\n",
       " 'tai website cua': {'tại website của': 1.0},\n",
       " 'website cua ISOC.': {'website của ISOC.': 1.0},\n",
       " 'Internet Society nam': {'Internet Society nằm': 1.0},\n",
       " 'Society nam o': {'Society nằm ở': 1.0},\n",
       " 'nam o gan': {'nằm ở gần': 1.0},\n",
       " 'o gan thu': {'ở gần thủ': 1.0},\n",
       " 'gan thu do': {'gần thủ đô': 1.0},\n",
       " 'thu do Washington,': {'thủ đô Washington,': 1.0},\n",
       " 'do Washington, DC,': {'đô Washington, DC,': 1.0},\n",
       " 'Washington, DC, Hoa': {'Washington, DC, Hoa': 1.0},\n",
       " 'DC, Hoa Ky': {'DC, Hoa Kỳ': 1.0},\n",
       " 'Hoa Ky va': {'Hoa Kỳ và': 1.0},\n",
       " 'Ky va Geneva,': {'Kỳ và Geneva,': 1.0},\n",
       " 'va Geneva, Thuy': {'và Geneva, Thụy': 1.0},\n",
       " 'Geneva, Thuy Si.': {'Geneva, Thụy Sĩ.': 1.0},\n",
       " 'So hoi vien': {'Số hội viên': 1.0},\n",
       " 'hoi vien cua': {'hội viên của': 1.0},\n",
       " 'vien cua no': {'viên của nó': 1.0},\n",
       " 'cua no bao': {'của nó bao': 1.0},\n",
       " 'no bao gom': {'nó bao gồm': 1.0},\n",
       " 'bao gom hon': {'bao gồm hơn': 1.0},\n",
       " 'gom hon 145': {'gồm hơn 145': 1.0},\n",
       " 'hon 145 to': {'hơn 145 tổ': 1.0},\n",
       " 'vien va hon': {'viên và hơn': 1.0},\n",
       " 'va hon 65.000': {'và hơn 65.000': 1.0},\n",
       " 'hon 65.000 ca': {'hơn 65.000 cá': 1.0},\n",
       " '65.000 ca nhan.': {'65.000 cá nhân.': 1.0},\n",
       " 'Thanh vien con': {'Thành viên còn': 1.0},\n",
       " 'vien con co': {'viên còn có': 0.6666666666666666,\n",
       "  'viện còn có': 0.3333333333333333},\n",
       " 'con co the': {'còn có thể': 1.0},\n",
       " 'co the tu': {'có thể tự': 1.0},\n",
       " 'the tu lap': {'thể tự lập': 1.0},\n",
       " 'tu lap mot': {'tự lập một': 1.0},\n",
       " 'lap mot chi': {'lập một chi': 1.0},\n",
       " 'mot chi nhanh': {'một chi nhánh': 1.0},\n",
       " 'chi nhanh cua': {'chi nhánh của': 1.0},\n",
       " 'nhanh cua to': {'nhánh của tổ': 1.0},\n",
       " 'cua to chuc': {'của tổ chức': 1.0},\n",
       " 'to chuc tuy': {'tổ chức tùy': 1.0},\n",
       " 'chuc tuy theo': {'chức tùy theo': 1.0},\n",
       " 'tuy theo vi': {'tùy theo vị': 1.0},\n",
       " 'theo vi tri': {'theo vị trí': 1.0},\n",
       " 'vi tri hoac': {'vị trí hoặc': 1.0},\n",
       " 'tri hoac so': {'trí hoặc sở': 1.0},\n",
       " 'hoac so thich.': {'hoặc sở thích.': 1.0},\n",
       " 'Hien nay to': {'Hiện nay tổ': 1.0},\n",
       " 'nay to chuc': {'nay tổ chức': 1.0},\n",
       " 'to chuc co': {'tổ chức có': 1.0},\n",
       " 'chuc co toi': {'chức có tới': 1.0},\n",
       " 'co toi 90': {'có tới 90': 1.0},\n",
       " 'toi 90 chi': {'tới 90 chi': 1.0},\n",
       " '90 chi nhanh': {'90 chi nhánh': 1.0},\n",
       " 'chi nhanh tren': {'chi nhánh trên': 1.0},\n",
       " 'nhanh tren toan': {'nhánh trên toàn': 1.0},\n",
       " 'tren toan the': {'trên toàn thế': 1.0},\n",
       " 'toan the gioi.': {'toàn thế giới.': 1.0},\n",
       " 'Bao dam, co': {'Bảo đảm, cổ': 1.0},\n",
       " 'dam, co vu': {'đảm, cổ vũ': 1.0},\n",
       " 'co vu cho': {'cổ vũ cho': 1.0},\n",
       " 'vu cho su': {'vũ cho sự': 0.5, 'vụ cho sự': 0.5},\n",
       " 'cho su phat': {'cho sự phát': 1.0},\n",
       " 'su phat trien,': {'sự phát triển,': 0.6666666666666666,\n",
       "  'sử phát triển,': 0.3333333333333333},\n",
       " 'phat trien, mo': {'phát triển, mở': 1.0},\n",
       " 'trien, mo rong': {'triển, mở rộng': 1.0},\n",
       " 'mo rong va': {'mở rộng và': 1.0},\n",
       " 'rong va su': {'rộng và sử': 1.0},\n",
       " 'va su dung': {'và sử dụng': 1.0},\n",
       " 'su dung Internet': {'sử dụng Internet': 1.0},\n",
       " 'dung Internet duoc': {'dụng Internet được': 1.0},\n",
       " 'Internet duoc thuan': {'Internet được thuận': 1.0},\n",
       " 'duoc thuan loi': {'được thuận lợi': 1.0},\n",
       " 'thuan loi nhat': {'thuận lợi nhất': 1.0},\n",
       " 'loi nhat cho': {'lợi nhất cho': 1.0},\n",
       " 'nhat cho moi': {'nhất cho mọi': 0.5, 'nhật cho môi': 0.5},\n",
       " 'cho moi nguoi': {'cho mọi người': 0.5714285714285714,\n",
       "  'cho mỗi người': 0.42857142857142855},\n",
       " 'moi nguoi tren': {'mọi người trên': 1.0},\n",
       " 'nguoi tren toan': {'người trên toàn': 1.0},\n",
       " 'Tieng Viet duoc': {'Tiếng Việt được': 1.0},\n",
       " 'Viet duoc chinh': {'Việt được chính': 1.0},\n",
       " 'duoc chinh thuc': {'được chính thức': 1.0},\n",
       " 'chinh thuc ghi': {'chính thức ghi': 1.0},\n",
       " 'thuc ghi nhan': {'thức ghi nhận': 1.0},\n",
       " 'ghi nhan trong': {'ghi nhận trong': 1.0},\n",
       " 'nhan trong Hien': {'nhận trong Hiến': 1.0},\n",
       " 'trong Hien phap': {'trong Hiến pháp': 1.0},\n",
       " 'Hien phap nuoc': {'Hiến pháp nước': 1.0},\n",
       " 'phap nuoc Cong': {'pháp nước Cộng': 1.0},\n",
       " 'nuoc Cong hoa': {'nước Cộng hòa': 0.7692307692307693,\n",
       "  'nước Cộng hoà': 0.23076923076923078},\n",
       " 'Cong hoa xa': {'Cộng hòa xã': 1.0},\n",
       " 'hoa xa hoi': {'hòa xã hội': 0.75, 'hoà xã hội': 0.125, 'hóa xã hội': 0.125},\n",
       " 'xa hoi chu': {'xã hội chủ': 1.0},\n",
       " 'hoi chu nghia': {'hội chủ nghĩa': 1.0},\n",
       " 'chu nghia Viet': {'chủ nghĩa Việt': 1.0},\n",
       " 'nghia Viet Nam': {'nghĩa Việt Nam': 1.0},\n",
       " 'Viet Nam 2013,': {'Việt Nam 2013,': 1.0},\n",
       " 'Nam 2013, tai': {'Nam 2013, tại': 1.0},\n",
       " '2013, tai Chuong': {'2013, tại Chương': 1.0},\n",
       " 'tai Chuong I': {'tại Chương I': 1.0},\n",
       " 'Chuong I Dieu': {'Chương I Điều': 1.0},\n",
       " 'I Dieu 5': {'I Điều 5': 1.0},\n",
       " 'Dieu 5 Muc': {'Điều 5 Mục': 1.0},\n",
       " '5 Muc 3,': {'5 Mục 3,': 1.0},\n",
       " 'Muc 3, la': {'Mục 3, là': 1.0},\n",
       " '3, la ngon': {'3, là ngôn': 1.0},\n",
       " 'la ngon ngu': {'là ngôn ngữ': 1.0},\n",
       " 'ngon ngu quoc': {'ngôn ngữ quốc': 1.0},\n",
       " 'ngu quoc gia': {'ngữ quốc gia': 1.0},\n",
       " 'quoc gia cua': {'quốc gia của': 1.0},\n",
       " 'gia cua Viet': {'gia của Việt': 1.0},\n",
       " 'cua Viet Nam': {'của Việt Nam': 1.0},\n",
       " 'Viet Nam .': {'Việt Nam .': 1.0},\n",
       " 'Tieng Viet bao': {'Tiếng Việt bao': 1.0},\n",
       " 'Viet bao gom': {'Việt bao gồm': 1.0},\n",
       " 'bao gom cach': {'bao gồm cách': 1.0},\n",
       " 'gom cach phat': {'gồm cách phát': 1.0},\n",
       " 'cach phat am': {'cách phát âm': 1.0},\n",
       " 'phat am tieng': {'phát âm tiếng': 1.0},\n",
       " 'am tieng Viet': {'âm tiếng Việt': 1.0},\n",
       " 'tieng Viet va': {'tiếng Việt và': 1.0},\n",
       " 'Viet va chu': {'Việt và chữ': 1.0},\n",
       " 'va chu Quoc': {'và chữ Quốc': 1.0},\n",
       " 'chu Quoc ngu': {'chữ Quốc ngữ': 1.0},\n",
       " 'Quoc ngu de': {'Quốc ngữ để': 0.6666666666666666,\n",
       "  'Quốc ngữ dễ': 0.3333333333333333},\n",
       " 'ngu de viet.': {'ngữ để viết.': 1.0},\n",
       " 'Tuy nhien, hien': {'Tuy nhiên, hiện': 1.0},\n",
       " 'nhien, hien chua': {'nhiên, hiện chưa': 1.0},\n",
       " 'hien chua co': {'hiện chưa có': 1.0},\n",
       " 'chua co bat': {'chưa có bất': 1.0},\n",
       " 'co bat ky': {'có bất kỳ': 1.0},\n",
       " 'bat ky van': {'bất kỳ văn': 1.0},\n",
       " 'ky van ban': {'kỳ văn bản': 0.5, 'ký văn bản': 0.5},\n",
       " 'van ban nao': {'văn bản nào': 1.0},\n",
       " 'ban nao o': {'bản nào ở': 1.0},\n",
       " 'nao o cap': {'nào ở cấp': 1.0},\n",
       " 'o cap nha': {'ở cấp nhà': 1.0},\n",
       " 'cap nha nuoc': {'cấp nhà nước': 1.0},\n",
       " 'nha nuoc quy': {'nhà nước quy': 1.0},\n",
       " 'nuoc quy dinh': {'nước quy định': 1.0},\n",
       " 'quy dinh \"giong': {'quy định \"giọng': 1.0},\n",
       " 'dinh \"giong chuan\"': {'định \"giọng chuẩn\"': 1.0},\n",
       " '\"giong chuan\" va': {'\"giọng chuẩn\" và': 1.0},\n",
       " 'chuan\" va \"quoc': {'chuẩn\" và \"quốc': 1.0},\n",
       " 'va \"quoc tu\"': {'và \"quốc tự\"': 1.0},\n",
       " '\"quoc tu\" cua': {'\"quốc tự\" của': 1.0},\n",
       " 'tu\" cua tieng': {'tự\" của tiếng': 1.0},\n",
       " 'cua tieng Viet': {'của tiếng Việt': 1.0},\n",
       " 'tieng Viet .': {'tiếng Việt .': 1.0},\n",
       " 'Hien nay phan': {'Hiện nay phần': 1.0},\n",
       " 'nay phan lon': {'nay phần lớn': 0.25, 'này phần lớn': 0.75},\n",
       " 'phan lon cac': {'phần lớn các': 0.9565217391304348,\n",
       "  'phận lớn các': 0.043478260869565216},\n",
       " 'lon cac van': {'lớn các văn': 0.25, 'lớn các vận': 0.25, 'lớn các vấn': 0.5},\n",
       " 'cac van ban': {'các văn bản': 1.0},\n",
       " 'van ban trong': {'văn bản trong': 1.0},\n",
       " 'ban trong nuoc': {'bản trong nước': 1.0},\n",
       " 'trong nuoc duoc': {'trong nước được': 1.0},\n",
       " 'nuoc duoc viet': {'nước được viết': 1.0},\n",
       " 'duoc viet theo': {'được viết theo': 1.0},\n",
       " 'viet theo nhung': {'viết theo những': 1.0},\n",
       " 'theo nhung \"\"Quy': {'theo những \"\"Quy': 1.0},\n",
       " 'nhung \"\"Quy dinh': {'những \"\"Quy định': 1.0},\n",
       " '\"\"Quy dinh ve': {'\"\"Quy định về': 1.0},\n",
       " 'dinh ve chinh': {'định về chính': 1.0},\n",
       " 've chinh ta': {'về chính tả': 1.0},\n",
       " 'chinh ta tieng': {'chính tả tiếng': 1.0},\n",
       " 'ta tieng Viet': {'tả tiếng Việt': 1.0},\n",
       " 'Viet va ve': {'Việt và về': 1.0},\n",
       " 'va ve thuat': {'và về thuật': 1.0},\n",
       " 've thuat ngu': {'về thuật ngữ': 1.0},\n",
       " 'thuat ngu tieng': {'thuật ngữ tiếng': 1.0},\n",
       " 'ngu tieng Viet\"': {'ngữ tiếng Việt\"': 1.0},\n",
       " 'tieng Viet\" ap': {'tiếng Việt\" áp': 1.0},\n",
       " 'Viet\" ap dung': {'Việt\" áp dụng': 1.0},\n",
       " 'ap dung cho': {'áp dụng cho': 1.0},\n",
       " 'dung cho cac': {'dụng cho các': 0.5454545454545454,\n",
       "  'dùng cho các': 0.45454545454545453},\n",
       " 'cho cac sach': {'cho các sách': 1.0},\n",
       " 'cac sach giao': {'các sách giáo': 1.0},\n",
       " 'sach giao khoa,': {'sách giáo khoa,': 1.0},\n",
       " 'giao khoa, bao': {'giáo khoa, báo': 1.0},\n",
       " 'khoa, bao va': {'khoa, báo và': 1.0},\n",
       " 'bao va van': {'báo và văn': 1.0},\n",
       " 'va van ban': {'và văn bản': 1.0},\n",
       " 'van ban cua': {'văn bản của': 1.0},\n",
       " 'ban cua nganh': {'bản của ngành': 1.0},\n",
       " 'cua nganh giao': {'của ngành giáo': 0.5, 'của ngành giao': 0.5},\n",
       " 'nganh giao duc\"': {'ngành giáo dục\"': 1.0},\n",
       " 'giao duc\" neu': {'giáo dục\" nêu': 1.0},\n",
       " 'duc\" neu tai': {'dục\" nêu tại': 1.0},\n",
       " 'neu tai Quyet': {'nêu tại Quyết': 1.0},\n",
       " 'tai Quyet dinh': {'tại Quyết định': 1.0},\n",
       " 'Quyet dinh cua': {'Quyết định của': 1.0},\n",
       " 'dinh cua Bo': {'định của Bộ': 1.0},\n",
       " 'cua Bo Giao': {'của Bộ Giáo': 1.0},\n",
       " 'Bo Giao duc': {'Bộ Giáo dục': 1.0},\n",
       " 'Giao duc so': {'Giáo dục số': 1.0},\n",
       " 'duc so 240/QD': {'dục số 240/QĐ': 1.0},\n",
       " 'so 240/QD ngay': {'số 240/QĐ ngày': 1.0},\n",
       " '240/QD ngay 5': {'240/QĐ ngày 5': 1.0},\n",
       " 'ngay 5 thang': {'ngày 5 tháng': 1.0},\n",
       " '5 thang 3': {'5 tháng 3': 1.0},\n",
       " 'thang 3 nam': {'tháng 3 năm': 0.9905660377358491,\n",
       "  'tháng 3 nằm': 0.009433962264150943},\n",
       " '3 nam 1984': {'3 năm 1984': 1.0},\n",
       " 'nam 1984 do': {'năm 1984 do': 1.0},\n",
       " '1984 do nhung': {'1984 do những': 1.0},\n",
       " 'do nhung nguoi': {'do những người': 0.75, 'đó những người': 0.25},\n",
       " 'nhung nguoi thu': {'những người thụ': 1.0},\n",
       " 'nguoi thu huong': {'người thụ hưởng': 1.0},\n",
       " 'thu huong giao': {'thụ hưởng giáo': 1.0},\n",
       " 'huong giao duc': {'hưởng giáo dục': 1.0},\n",
       " 'giao duc do': {'giáo dục đó': 1.0},\n",
       " 'duc do sau': {'dục đó sau': 1.0},\n",
       " 'do sau nay': {'đó sau này': 1.0},\n",
       " 'sau nay ra': {'sau này ra': 1.0},\n",
       " 'nay ra lam': {'này ra làm': 1.0},\n",
       " 'ra lam viec': {'ra làm việc': 1.0},\n",
       " 'lam viec trong': {'làm việc trong': 1.0},\n",
       " 'viec trong moi': {'việc trong mọi': 1.0},\n",
       " 'trong moi linh': {'trong mọi lĩnh': 1.0},\n",
       " 'moi linh vuc': {'mọi lĩnh vực': 1.0},\n",
       " 'linh vuc xa': {'lĩnh vực xã': 1.0},\n",
       " 'vuc xa hoi.': {'vực xã hội.': 1.0},\n",
       " 'Tieng Viet cung': {'Tiếng Việt cũng': 1.0},\n",
       " 'Viet cung da': {'Việt cũng đã': 1.0},\n",
       " 'cung da duoc': {'cũng đã được': 1.0},\n",
       " 'da duoc cong': {'đã được công': 1.0},\n",
       " 'duoc cong nhan': {'được công nhận': 1.0},\n",
       " 'cong nhan la': {'công nhận là': 0.9375, 'công nhân là': 0.0625},\n",
       " 'nhan la mot': {'nhận là một': 1.0},\n",
       " 'la mot ngon': {'là một ngôn': 1.0},\n",
       " 'mot ngon ngu': {'một ngôn ngữ': 1.0},\n",
       " 'ngon ngu dan': {'ngôn ngữ dân': 1.0},\n",
       " 'ngu dan toc': {'ngữ dân tộc': 1.0},\n",
       " 'dan toc thieu': {'dân tộc thiểu': 1.0},\n",
       " 'toc thieu so': {'tộc thiểu số': 1.0},\n",
       " 'thieu so tai': {'thiểu số tại': 1.0},\n",
       " 'so tai Cong': {'số tại Cộng': 1.0},\n",
       " 'tai Cong hoa': {'tại Cộng hòa': 1.0},\n",
       " 'Cong hoa Sec.': {'Cộng hòa Séc.': 1.0},\n",
       " 'To chuc tieu': {'Tổ chức tiêu': 1.0},\n",
       " 'chuc tieu chuan': {'chức tiêu chuẩn': 1.0},\n",
       " 'tieu chuan hoa': {'tiêu chuẩn hóa': 1.0},\n",
       " 'chuan hoa quoc': {'chuẩn hóa quốc': 1.0},\n",
       " 'hoa quoc te': {'hóa quốc tế': 0.75, 'hoa quốc tế': 0.25},\n",
       " 'quoc te dat': {'quốc tế đặt': 0.5, 'quốc tế đạt': 0.5},\n",
       " 'te dat ma': {'tế đặt mã': 1.0},\n",
       " 'dat ma ngon': {'đặt mã ngôn': 1.0},\n",
       " 'ma ngon ngu': {'mã ngôn ngữ': 1.0},\n",
       " 'ngon ngu hai': {'ngôn ngữ hai': 1.0},\n",
       " 'ngu hai chu': {'ngữ hai chữ': 1.0},\n",
       " 'hai chu cai': {'hai chữ cái': 1.0},\n",
       " 'chu cai cho': {'chữ cái cho': 1.0},\n",
       " 'cai cho tieng': {'cái cho tiếng': 1.0},\n",
       " 'cho tieng Viet': {'cho tiếng Việt': 1.0},\n",
       " 'tieng Viet la': {'tiếng Việt là': 1.0},\n",
       " 'Viet la \"vi\"': {'Việt là \"vi\"': 1.0},\n",
       " 'la \"vi\" (tieu': {'là \"vi\" (tiêu': 1.0},\n",
       " '\"vi\" (tieu chuan': {'\"vi\" (tiêu chuẩn': 1.0},\n",
       " '(tieu chuan ISO': {'(tiêu chuẩn ISO': 1.0},\n",
       " 'chuan ISO 639-1)': {'chuẩn ISO 639-1)': 1.0},\n",
       " 'ISO 639-1) va': {'ISO 639-1) và': 1.0},\n",
       " '639-1) va dat': {'639-1) và đặt': 1.0},\n",
       " 'va dat ma': {'và đặt mã': 1.0},\n",
       " 'ngon ngu ba': {'ngôn ngữ ba': 1.0},\n",
       " 'ngu ba chu': {'ngữ ba chữ': 1.0},\n",
       " 'ba chu cai': {'ba chữ cái': 1.0},\n",
       " 'Viet la \"vie\"': {'Việt là \"vie\"': 1.0},\n",
       " 'la \"vie\" (tieu': {'là \"vie\" (tiêu': 1.0},\n",
       " '\"vie\" (tieu chuan': {'\"vie\" (tiêu chuẩn': 1.0},\n",
       " 'chuan ISO 639-2)': {'chuẩn ISO 639-2)': 1.0},\n",
       " 'ISO 639-2) .': {'ISO 639-2) .': 1.0},\n",
       " 'Nhung ngon ngu': {'Những ngôn ngữ': 1.0},\n",
       " 'ngon ngu nay': {'ngôn ngữ này': 1.0},\n",
       " 'ngu nay co': {'ngữ này có': 1.0},\n",
       " 'nay co chung': {'này có chung': 1.0},\n",
       " 'co chung mot': {'có chung một': 1.0},\n",
       " 'chung mot so': {'chung một số': 1.0},\n",
       " 'mot so tu': {'một số từ': 1.0},\n",
       " 'so tu vung': {'số từ vựng': 1.0},\n",
       " 'tu vung can': {'từ vựng căn': 1.0},\n",
       " 'vung can ban.': {'vựng căn bản.': 1.0},\n",
       " 'Thi du, tu': {'Thí dụ, từ': 1.0},\n",
       " 'du, tu \"tay\"': {'dụ, từ \"tay\"': 1.0},\n",
       " 'tu \"tay\" trong': {'từ \"tay\" trong': 1.0},\n",
       " '\"tay\" trong tieng': {'\"tay\" trong tiếng': 1.0},\n",
       " 'trong tieng Viet': {'trong tiếng Việt': 1.0},\n",
       " 'tieng Viet tuong': {'tiếng Việt tương': 1.0},\n",
       " 'Viet tuong duong': {'Việt tương đương': 1.0},\n",
       " 'tuong duong trong': {'tương đương trong': 1.0},\n",
       " 'duong trong tieng': {'đương trong tiếng': 1.0},\n",
       " 'trong tieng Muong': {'trong tiếng Mường': 1.0},\n",
       " 'tieng Muong la': {'tiếng Mường là': 1.0},\n",
       " 'Muong la \"thay\",': {'Mường là \"thay\",': 1.0},\n",
       " 'la \"thay\", trong': {'là \"thay\", trong': 1.0},\n",
       " '\"thay\", trong tieng': {'\"thay\", trong tiếng': 1.0},\n",
       " 'trong tieng Khmer': {'trong tiếng Khmer': 1.0},\n",
       " 'tieng Khmer la': {'tiếng Khmer là': 1.0},\n",
       " 'Khmer la \"day\"': {'Khmer là \"đay\"': 1.0},\n",
       " 'la \"day\" va': {'là \"đay\" và': 1.0},\n",
       " '\"day\" va trong': {'\"đay\" và trong': 1.0},\n",
       " 'va trong tieng': {'và trong tiếng': 1.0},\n",
       " 'trong tieng Mon': {'trong tiếng Môn': 1.0},\n",
       " 'tieng Mon la': {'tiếng Môn là': 1.0},\n",
       " 'Mon la \"tai\".': {'Môn là \"tai\".': 1.0},\n",
       " 'Tieng Viet la': {'Tiếng Việt là': 1.0},\n",
       " 'Viet la ngon': {'Việt là ngôn': 1.0},\n",
       " 'ngon ngu co': {'ngôn ngữ có': 1.0},\n",
       " 'ngu co nguon': {'ngữ có nguồn': 1.0},\n",
       " 'co nguon goc': {'có nguồn gốc': 1.0},\n",
       " 'nguon goc ban': {'nguồn gốc bản': 1.0},\n",
       " 'goc ban dia,': {'gốc bản địa,': 1.0},\n",
       " 'ban dia, xuat': {'bản địa, xuất': 1.0},\n",
       " 'dia, xuat than': {'địa, xuất thân': 1.0},\n",
       " 'xuat than tu': {'xuất thân từ': 1.0},\n",
       " 'than tu nen': {'thân từ nền': 1.0},\n",
       " 'tu nen van': {'từ nền văn': 1.0},\n",
       " 'nen van minh': {'nền văn minh': 1.0},\n",
       " 'van minh nong': {'văn minh nông': 1.0},\n",
       " 'minh nong nghiep,': {'minh nông nghiệp,': 1.0},\n",
       " 'nong nghiep, tai': {'nông nghiệp, tại': 1.0},\n",
       " 'nghiep, tai noi': {'nghiệp, tại nơi': 1.0},\n",
       " 'tai noi ma': {'tại nơi mà': 1.0},\n",
       " 'noi ma ngay': {'nơi mà ngày': 1.0},\n",
       " 'ma ngay nay': {'mà ngày nay': 1.0},\n",
       " 'ngay nay la': {'ngày nay là': 1.0},\n",
       " 'nay la khu': {'nay là khu': 0.3333333333333333,\n",
       "  'này là khu': 0.6666666666666666},\n",
       " 'la khu vuc': {'là khu vực': 1.0},\n",
       " 'khu vuc phia': {'khu vực phía': 1.0},\n",
       " 'vuc phia bac': {'vực phía bắc': 1.0},\n",
       " 'phia bac luu': {'phía bắc lưu': 1.0},\n",
       " 'bac luu vuc': {'bắc lưu vực': 1.0},\n",
       " 'luu vuc song': {'lưu vực sông': 1.0},\n",
       " 'vuc song Hong': {'vực sông Hồng': 1.0},\n",
       " 'song Hong va': {'sông Hồng và': 1.0},\n",
       " 'Hong va song': {'Hồng và sông': 1.0},\n",
       " 'va song Ma': {'và sông Mã': 1.0},\n",
       " 'song Ma cua': {'sông Mã của': 1.0},\n",
       " 'Ma cua Viet': {'Mã của Việt': 1.0},\n",
       " 'cua Viet Nam.': {'của Việt Nam.': 1.0},\n",
       " 'Haudricourt giai thich': {'Haudricourt giải thích': 1.0},\n",
       " 'giai thich tu': {'giải thích từ': 1.0},\n",
       " 'thich tu nam': {'thích từ năm': 1.0},\n",
       " 'tu nam 1954,': {'từ năm 1954,': 1.0},\n",
       " 'nam 1954, nhom': {'năm 1954, nhóm': 1.0},\n",
       " '1954, nhom ngon': {'1954, nhóm ngôn': 1.0},\n",
       " 'nhom ngon ngu': {'nhóm ngôn ngữ': 1.0},\n",
       " 'ngon ngu Viet-Muong': {'ngôn ngữ Việt-Mường': 1.0},\n",
       " 'ngu Viet-Muong o': {'ngữ Việt-Mường ở': 1.0},\n",
       " 'Viet-Muong o thoi': {'Việt-Mường ở thời': 1.0},\n",
       " 'o thoi ky': {'ở thời kỳ': 1.0},\n",
       " 'thoi ky khoang': {'thời kỳ khoảng': 1.0},\n",
       " 'ky khoang dau': {'kỳ khoảng đầu': 1.0},\n",
       " 'khoang dau Cong': {'khoảng đầu Công': 1.0},\n",
       " 'dau Cong nguyen': {'đầu Công nguyên': 1.0},\n",
       " 'Cong nguyen la': {'Công nguyên là': 1.0},\n",
       " 'nguyen la nhung': {'nguyên là những': 1.0},\n",
       " 'la nhung ngon': {'là những ngôn': 1.0},\n",
       " 'nhung ngon ngu': {'những ngôn ngữ': 1.0},\n",
       " 'ngon ngu hay': {'ngôn ngữ hay': 1.0},\n",
       " 'ngu hay phuong': {'ngữ hay phương': 1.0},\n",
       " 'hay phuong ngu': {'hay phương ngữ': 1.0},\n",
       " 'phuong ngu khong': {'phương ngữ không': 1.0},\n",
       " 'ngu khong thanh': {'ngữ không thanh': 1.0},\n",
       " 'khong thanh dieu.': {'không thanh điệu.': 1.0},\n",
       " 'Ve sau, qua': {'Về sau, qua': 1.0},\n",
       " 'sau, qua qua': {'sau, qua quá': 1.0},\n",
       " 'qua qua trinh': {'qua quá trình': 1.0},\n",
       " 'qua trinh giao': {'quá trình giao': 1.0},\n",
       " 'trinh giao thoa': {'trình giao thoa': 1.0},\n",
       " 'giao thoa voi': {'giao thoa với': 1.0},\n",
       " 'thoa voi Hoa': {'thoa với Hoa': 1.0},\n",
       " 'voi Hoa ngu': {'với Hoa ngữ': 1.0},\n",
       " 'Hoa ngu va': {'Hoa ngữ và': 1.0},\n",
       " 'ngu va nhat': {'ngữ và nhất': 1.0},\n",
       " 'va nhat la': {'và nhất là': 1.0},\n",
       " 'nhat la voi': {'nhất là với': 1.0},\n",
       " 'la voi cac': {'là với các': 1.0},\n",
       " 'voi cac ngu': {'với các ngữ': 0.6666666666666666,\n",
       "  'với các ngư': 0.3333333333333333},\n",
       " 'cac ngu thuoc': {'các ngữ thuộc': 1.0},\n",
       " 'ngu thuoc ngu': {'ngữ thuộc ngữ': 1.0},\n",
       " 'thuoc ngu he': {'thuộc ngữ hệ': 1.0},\n",
       " 'ngu he Tai-Kadai': {'ngữ hệ Tai-Kadai': 1.0},\n",
       " 'he Tai-Kadai von': {'hệ Tai-Kadai vốn': 1.0},\n",
       " 'Tai-Kadai von co': {'Tai-Kadai vốn có': 1.0},\n",
       " 'von co he': {'vốn có hệ': 1.0},\n",
       " 'co he thong': {'có hệ thống': 0.9565217391304348,\n",
       "  'cố hệ thống': 0.043478260869565216},\n",
       " 'he thong thanh': {'hệ thống thanh': 0.8, 'hệ thống thành': 0.2},\n",
       " 'thong thanh dieu': {'thống thanh điệu': 1.0},\n",
       " 'thanh dieu phat': {'thanh điệu phát': 1.0},\n",
       " 'dieu phat trien': {'điệu phát triển': 1.0},\n",
       " 'phat trien cao,': {'phát triển cao,': 1.0},\n",
       " 'trien cao, he': {'triển cao, hệ': 1.0},\n",
       " 'cao, he thong': {'cao, hệ thống': 1.0},\n",
       " 'thanh dieu trong': {'thanh điệu trong': 1.0},\n",
       " 'dieu trong tieng': {'điệu trong tiếng': 1.0},\n",
       " 'tieng Viet xuat': {'tiếng Việt xuất': 1.0},\n",
       " 'Viet xuat hien': {'Việt xuất hiện': 1.0},\n",
       " 'xuat hien va': {'xuất hiện và': 1.0},\n",
       " 'hien va co': {'hiện và có': 1.0},\n",
       " 'va co dien': {'và có diện': 0.6666666666666666,\n",
       "  'và cơ điện': 0.3333333333333333},\n",
       " 'co dien mao': {'có diện mạo': 1.0},\n",
       " 'dien mao nhu': {'diện mạo như': 1.0},\n",
       " 'mao nhu ngay': {'mạo như ngày': 1.0},\n",
       " 'nhu ngay nay,': {'như ngày nay,': 1.0},\n",
       " 'ngay nay, theo': {'ngày nay, theo': 1.0},\n",
       " 'nay, theo quy': {'nay, theo quy': 1.0},\n",
       " 'theo quy luat': {'theo quy luật': 1.0},\n",
       " 'quy luat hinh': {'quy luật hình': 1.0},\n",
       " 'luat hinh thanh': {'luật hình thành': 1.0},\n",
       " 'hinh thanh thanh': {'hình thành thanh': 1.0},\n",
       " 'thanh thanh dieu.': {'thành thanh điệu.': 1.0},\n",
       " 'Su xuat hien': {'Sự xuất hiện': 1.0},\n",
       " 'xuat hien cac': {'xuất hiện các': 1.0},\n",
       " 'hien cac thanh': {'hiện các thanh': 0.5, 'hiện các thành': 0.5},\n",
       " 'cac thanh dieu,': {'các thanh điệu,': 1.0},\n",
       " 'thanh dieu, bat': {'thanh điệu, bắt': 1.0},\n",
       " 'dieu, bat dau': {'điệu, bắt đầu': 1.0},\n",
       " 'bat dau khoang': {'bắt đầu khoảng': 1.0},\n",
       " 'dau khoang the': {'đầu khoảng thế': 1.0},\n",
       " 'khoang the ky': {'khoảng thế kỷ': 1.0},\n",
       " 'the ky thu': {'thế kỷ thứ': 1.0},\n",
       " 'ky thu VI': {'kỷ thứ VI': 1.0},\n",
       " 'thu VI (thoi': {'thứ VI (thời': 1.0},\n",
       " 'VI (thoi ky': {'VI (thời kỳ': 1.0},\n",
       " '(thoi ky Bac': {'(thời kỳ Bắc': 1.0},\n",
       " 'ky Bac thuoc': {'kỳ Bắc thuộc': 1.0},\n",
       " 'Bac thuoc trong': {'Bắc thuộc trong': 1.0},\n",
       " 'thuoc trong lich': {'thuộc trong lịch': 1.0},\n",
       " 'trong lich su': {'trong lịch sử': 0.975609756097561,\n",
       "  'trọng lịch sử': 0.024390243902439025},\n",
       " 'lich su Viet': {'lịch sử Việt': 1.0},\n",
       " 'su Viet Nam)': {'sử Việt Nam)': 1.0},\n",
       " 'Viet Nam) voi': {'Việt Nam) với': 1.0},\n",
       " 'Nam) voi ba': {'Nam) với ba': 1.0},\n",
       " 'voi ba thanh': {'với ba thanh': 1.0},\n",
       " 'ba thanh dieu': {'ba thanh điệu': 1.0},\n",
       " 'thanh dieu va': {'thanh điệu và': 1.0},\n",
       " 'dieu va phat': {'điệu và phát': 1.0},\n",
       " 'va phat trien': {'và phát triển': 1.0},\n",
       " 'phat trien on': {'phát triển ổn': 1.0},\n",
       " 'trien on dinh': {'triển ổn định': 1.0},\n",
       " 'on dinh vao': {'ổn định vào': 1.0},\n",
       " 'dinh vao khoang': {'định vào khoảng': 1.0},\n",
       " 'vao khoang the': {'vào khoảng thế': 1.0},\n",
       " 'the ky XII': {'thế kỷ XII': 1.0},\n",
       " 'ky XII (nha': {'kỷ XII (nhà': 1.0},\n",
       " 'XII (nha Ly)': {'XII (nhà Lý)': 1.0},\n",
       " '(nha Ly) voi': {'(nhà Lý) với': 1.0},\n",
       " 'Ly) voi 6': {'Lý) với 6': 1.0},\n",
       " 'voi 6 thanh': {'với 6 thanh': 1.0},\n",
       " '6 thanh dieu.': {'6 thanh điệu.': 1.0},\n",
       " 'Sau do mot': {'Sau đó một': 1.0},\n",
       " 'do mot so': {'đó một số': 0.6, 'do một số': 0.4},\n",
       " 'mot so phu': {'một số phụ': 1.0},\n",
       " 'so phu am': {'số phụ âm': 1.0},\n",
       " 'phu am dau': {'phụ âm đầu': 1.0},\n",
       " 'am dau bien': {'âm đầu biến': 1.0},\n",
       " 'dau bien doi': {'đầu biến đổi': 1.0},\n",
       " 'bien doi cho': {'biến đổi cho': 1.0},\n",
       " 'doi cho toi': {'đổi cho tới': 1.0},\n",
       " 'cho toi ngay': {'cho tới ngày': 1.0},\n",
       " 'toi ngay nay.': {'tới ngày nay.': 1.0},\n",
       " 'Trong qua trinh': {'Trong quá trình': 1.0},\n",
       " 'qua trinh bien': {'quá trình biến': 0.5, 'quá trình biên': 0.5},\n",
       " 'trinh bien doi,': {'trình biến đổi,': 1.0},\n",
       " 'bien doi, cac': {'biến đổi, các': 1.0},\n",
       " 'doi, cac phu': {'đổi, các phụ': 1.0},\n",
       " 'cac phu am': {'các phụ âm': 1.0},\n",
       " 'phu am cuoi': {'phụ âm cuối': 1.0},\n",
       " 'am cuoi rung': {'âm cuối rụng': 1.0},\n",
       " 'cuoi rung di': {'cuối rụng đi': 1.0},\n",
       " 'rung di lam': {'rụng đi làm': 1.0},\n",
       " 'di lam thay': {'đi làm thay': 1.0},\n",
       " 'lam thay doi': {'làm thay đổi': 1.0},\n",
       " 'thay doi cac': {'thay đổi các': 1.0},\n",
       " 'doi cac ket': {'đổi các kết': 1.0},\n",
       " 'cac ket thuc': {'các kết thúc': 1.0},\n",
       " 'ket thuc am': {'kết thúc âm': 1.0},\n",
       " 'thuc am tiet': {'thúc âm tiết': 1.0},\n",
       " 'am tiet va': {'âm tiết và': 1.0},\n",
       " 'tiet va phu': {'tiết và phụ': 1.0},\n",
       " 'va phu am': {'và phụ âm': 1.0},\n",
       " 'am dau chuyen': {'âm đầu chuyển': 1.0},\n",
       " 'dau chuyen tu': {'đầu chuyển từ': 1.0},\n",
       " 'chuyen tu lan': {'chuyển từ lẫn': 1.0},\n",
       " 'tu lan lon': {'từ lẫn lộn': 1.0},\n",
       " 'lan lon vo': {'lẫn lộn vô': 1.0},\n",
       " 'lon vo thanh': {'lộn vô thanh': 1.0},\n",
       " 'vo thanh voi': {'vô thanh với': 1.0},\n",
       " 'thanh voi huu': {'thanh với hữu': 1.0},\n",
       " 'voi huu thanh': {'với hữu thanh': 1.0},\n",
       " 'huu thanh sang': {'hữu thanh sang': 1.0},\n",
       " 'thanh sang tach': {'thanh sang tách': 1.0},\n",
       " 'sang tach biet.': {'sang tách biệt.': 1.0},\n",
       " 'Vi du cua': {'Ví dụ của': 1.0},\n",
       " 'du cua A.G.': {'dụ của A.G.': 1.0},\n",
       " 'cua A.G. Haudricourt.': {'của A.G. Haudricourt.': 1.0},\n",
       " 'Tu Han co': {'Từ Hán cổ': 1.0},\n",
       " 'Han co va': {'Hán cổ và': 1.0},\n",
       " 'co va tu': {'cổ và từ': 1.0},\n",
       " 'va tu Han': {'và từ Hán': 1.0},\n",
       " 'tu Han Viet': {'từ Hán Việt': 1.0},\n",
       " 'Han Viet duoc': {'Hán Việt được': 1.0},\n",
       " 'Viet duoc goi': {'Việt được gọi': 1.0},\n",
       " 'duoc goi chung': {'được gọi chung': 1.0},\n",
       " 'goi chung la': {'gọi chung là': 1.0},\n",
       " 'chung la tu': {'chung là từ': 1.0},\n",
       " 'la tu goc': {'là từ gốc': 1.0},\n",
       " 'tu goc Han.': {'từ gốc Hán.': 1.0},\n",
       " 'Mot so tu': {'Một số từ': 1.0},\n",
       " 'so tu ngu': {'số từ ngữ': 1.0},\n",
       " 'tu ngu Han': {'từ ngữ Hán': 1.0},\n",
       " 'ngu Han co': {'ngữ Hán cổ': 1.0},\n",
       " 'Han co co': {'Hán cổ có': 1.0},\n",
       " 'co co the': {'cổ có thể': 0.5, 'có cơ thể': 0.5},\n",
       " 'co the ke': {'có thể kể': 1.0},\n",
       " 'the ke den': {'thể kể đến': 1.0},\n",
       " 'ke den nhu': {'kể đến như': 1.0},\n",
       " 'den nhu \"dau\",': {'đến như \"đầu\",': 1.0},\n",
       " 'nhu \"dau\", \"gan\",': {'như \"đầu\", \"gan\",': 1.0},\n",
       " '\"dau\", \"gan\", \"ghe\",': {'\"đầu\", \"gan\", \"ghế\",': 1.0},\n",
       " '\"gan\", \"ghe\", \"ong\",': {'\"gan\", \"ghế\", \"ông\",': 1.0},\n",
       " '\"ghe\", \"ong\", \"ba\",': {'\"ghế\", \"ông\", \"bà\",': 1.0},\n",
       " '\"ong\", \"ba\", \"co\",': {'\"ông\", \"bà\", \"cô\",': 1.0},\n",
       " '\"ba\", \"co\", \"che\",': {'\"bà\", \"cô\", \"chè\",': 1.0},\n",
       " '\"co\", \"che\", \"nga\",': {'\"cô\", \"chè\", \"ngà\",': 1.0},\n",
       " '\"che\", \"nga\", \"chen\",': {'\"chè\", \"ngà\", \"chén\",': 1.0},\n",
       " '\"nga\", \"chen\", \"chem\",': {'\"ngà\", \"chén\", \"chém\",': 1.0},\n",
       " '\"chen\", \"chem\", \"chim\",': {'\"chén\", \"chém\", \"chìm\",': 1.0},\n",
       " '\"chem\", \"chim\", \"buong\",': {'\"chém\", \"chìm\", \"buồng\",': 1.0},\n",
       " '\"chim\", \"buong\", \"buon\",': {'\"chìm\", \"buồng\", \"buồn\",': 1.0},\n",
       " '\"buong\", \"buon\", \"buom\",': {'\"buồng\", \"buồn\", \"buồm\",': 1.0},\n",
       " '\"buon\", \"buom\", \"mui\",': {'\"buồn\", \"buồm\", \"mùi\",': 1.0},\n",
       " '\"buom\", \"mui\", \"mua\"...': {'\"buồm\", \"mùi\", \"mùa\"...': 1.0},\n",
       " 'Han co la': {'Hán cổ là': 1.0},\n",
       " 'co la nhung': {'cổ là những': 1.0},\n",
       " 'la nhung tu': {'là những từ': 1.0},\n",
       " 'nhung tu goc': {'những từ gốc': 1.0},\n",
       " 'tu goc Han': {'từ gốc Hán': 1.0},\n",
       " 'goc Han duoc': {'gốc Hán được': 1.0},\n",
       " 'Han duoc du': {'Hán được du': 1.0},\n",
       " 'duoc du nhap': {'được du nhập': 1.0},\n",
       " 'du nhap vao': {'du nhập vào': 1.0},\n",
       " 'nhap vao tieng': {'nhập vào tiếng': 1.0},\n",
       " 'vao tieng Viet': {'vào tiếng Việt': 1.0},\n",
       " 'tieng Viet da': {'tiếng Việt đã': 1.0},\n",
       " 'Viet da lau,': {'Việt đã lâu,': 1.0},\n",
       " 'da lau, da': {'đã lâu, đã': 1.0},\n",
       " 'lau, da duoc': {'lâu, đã được': 1.0},\n",
       " 'da duoc dong': {'đã được đồng': 1.0},\n",
       " 'duoc dong hoa': {'được đồng hoá': 1.0},\n",
       " 'dong hoa rat': {'đồng hoá rất': 1.0},\n",
       " 'hoa rat manh,': {'hoá rất mạnh,': 1.0},\n",
       " 'rat manh, nen': {'rất mạnh, nên': 1.0},\n",
       " 'manh, nen nhung': {'mạnh, nên những': 1.0},\n",
       " 'nen nhung tu': {'nên những từ': 1.0},\n",
       " 'nhung tu nay': {'những từ này': 1.0},\n",
       " 'tu nay hien': {'từ này hiện': 1.0},\n",
       " 'nay hien nay': {'này hiện nay': 1.0},\n",
       " 'hien nay la': {'hiện nay là': 1.0},\n",
       " 'nay la tu': {'nay là từ': 1.0},\n",
       " 'la tu thong': {'là từ thông': 1.0},\n",
       " 'tu thong thuong': {'từ thông thường': 1.0},\n",
       " 'thong thuong trong': {'thông thường trong': 1.0},\n",
       " 'thuong trong hoat': {'thường trong hoạt': 1.0},\n",
       " 'trong hoat dong': {'trong hoạt động': 1.0},\n",
       " 'hoat dong xa': {'hoạt động xã': 1.0},\n",
       " 'dong xa hoi': {'động xã hội': 1.0},\n",
       " 'xa hoi doi': {'xã hội đối': 1.0},\n",
       " 'hoi doi voi': {'hội đối với': 1.0},\n",
       " 'doi voi nguoi': {'đối với người': 1.0},\n",
       " 'voi nguoi Viet.': {'với người Việt.': 1.0},\n",
       " 'Ti le tu': {'Tỉ lệ từ': 1.0},\n",
       " 'le tu Han': {'lệ từ Hán': 1.0},\n",
       " 'Han Viet trong': {'Hán Việt trong': 1.0},\n",
       " 'Viet trong tieng': {'Việt trong tiếng': 1.0},\n",
       " 'tieng Viet rat': {'tiếng Việt rất': 1.0},\n",
       " 'Viet rat lon.': {'Việt rất lớn.': 1.0},\n",
       " 'Theo uoc luong': {'Theo ước lượng': 1.0},\n",
       " 'uoc luong cua': {'ước lượng của': 1.0},\n",
       " 'luong cua cac': {'lượng của các': 0.75, 'lương của các': 0.25},\n",
       " 'cua cac nha': {'của các nhà': 1.0},\n",
       " 'cac nha nghien': {'các nhà nghiên': 1.0},\n",
       " 'nha nghien cuu,': {'nhà nghiên cứu,': 1.0},\n",
       " 'nghien cuu, tu': {'nghiên cứu, từ': 1.0},\n",
       " 'cuu, tu Han': {'cứu, từ Hán': 1.0},\n",
       " 'Han Viet chiem': {'Hán Việt chiếm': 1.0},\n",
       " 'Viet chiem khoang': {'Việt chiếm khoảng': 1.0},\n",
       " 'chiem khoang tren': {'chiếm khoảng trên': 1.0},\n",
       " 'khoang tren duoi': {'khoảng trên dưới': 1.0},\n",
       " 'tren duoi 70%': {'trên dưới 70%': 1.0},\n",
       " 'duoi 70% von': {'dưới 70% vốn': 1.0},\n",
       " '70% von tu': {'70% vốn từ': 1.0},\n",
       " 'von tu trong': {'vốn từ trong': 1.0},\n",
       " 'tu trong phong': {'từ trong phong': 1.0},\n",
       " 'trong phong cach': {'trong phong cách': 1.0},\n",
       " 'phong cach chinh': {'phong cách chính': 1.0},\n",
       " 'cach chinh luan,': {'cách chính luận,': 1.0},\n",
       " 'chinh luan, khoa': {'chính luận, khoa': 1.0},\n",
       " 'luan, khoa hoc': {'luận, khoa học': 1.0},\n",
       " 'khoa hoc (Maspero': {'khoa học (Maspéro': 1.0},\n",
       " 'hoc (Maspero thi': {'học (Maspéro thì': 1.0},\n",
       " '(Maspero thi cho': {'(Maspéro thì cho': 1.0},\n",
       " 'thi cho rang,': {'thì cho rằng,': 1.0},\n",
       " 'cho rang, chung': {'cho rằng, chúng': 1.0},\n",
       " 'rang, chung chiem': {'rằng, chúng chiếm': 1.0},\n",
       " 'chung chiem toi': {'chúng chiếm tới': 1.0},\n",
       " 'chiem toi hon': {'chiếm tới hơn': 1.0},\n",
       " 'toi hon 60%': {'tới hơn 60%': 1.0},\n",
       " 'hon 60% luong': {'hơn 60% lượng': 1.0},\n",
       " '60% luong tu': {'60% lượng từ': 1.0},\n",
       " 'luong tu tieng': {'lượng từ tiếng': 1.0},\n",
       " 'tu tieng Viet).': {'từ tiếng Việt).': 1.0},\n",
       " 'Tac gia Le': {'Tác giả Lê': 1.0},\n",
       " 'gia Le Nguyen': {'giả Lê Nguyễn': 1.0},\n",
       " 'Le Nguyen Luu': {'Lê Nguyễn Lưu': 1.0},\n",
       " 'Nguyen Luu trong': {'Nguyễn Lưu trong': 1.0},\n",
       " 'Luu trong cuon': {'Lưu trong cuốn': 1.0},\n",
       " 'trong cuon sach': {'trong cuốn sách': 1.0},\n",
       " 'cuon sach \"Tu': {'cuốn sách \"Từ': 1.0},\n",
       " 'sach \"Tu chu': {'sách \"Từ chữ': 1.0},\n",
       " '\"Tu chu Han': {'\"Từ chữ Hán': 1.0},\n",
       " 'chu Han den': {'chữ Hán đến': 1.0},\n",
       " 'Han den chu': {'Hán đến chữ': 1.0},\n",
       " 'den chu Nom\"': {'đến chữ Nôm\"': 1.0},\n",
       " 'chu Nom\" thi': {'chữ Nôm\" thì': 1.0},\n",
       " 'Nom\" thi cho': {'Nôm\" thì cho': 1.0},\n",
       " 'cho rang, ve': {'cho rằng, về': 1.0},\n",
       " 'rang, ve linh': {'rằng, về lĩnh': 1.0},\n",
       " 've linh vuc': {'về lĩnh vực': 1.0},\n",
       " 'linh vuc chuyen': {'lĩnh vực chuyên': 1.0},\n",
       " 'vuc chuyen mon': {'vực chuyên môn': 1.0},\n",
       " 'chuyen mon va': {'chuyên môn và': 1.0},\n",
       " 'mon va khoa': {'môn và khoa': 1.0},\n",
       " 'va khoa hoc': {'và khoa học': 1.0},\n",
       " 'khoa hoc ti': {'khoa học tỉ': 1.0},\n",
       " 'hoc ti le': {'học tỉ lệ': 1.0},\n",
       " 'ti le nay': {'tỉ lệ này': 1.0},\n",
       " 'le nay co': {'lệ này có': 0.75, 'lễ này có': 0.25},\n",
       " 'nay co the': {'này có thể': 0.9333333333333333,\n",
       "  'nay có thể': 0.06666666666666667},\n",
       " 'co the len': {'có thể lên': 1.0},\n",
       " 'the len den': {'thể lên đến': 1.0},\n",
       " 'len den 80%,': {'lên đến 80%,': 1.0},\n",
       " 'den 80%, nhung': {'đến 80%, nhưng': 1.0},\n",
       " '80%, nhung khi': {'80%, nhưng khi': 1.0},\n",
       " 'nhung khi nhan': {'nhưng khi nhận': 1.0},\n",
       " 'khi nhan xet': {'khi nhận xét': 1.0},\n",
       " 'nhan xet ve': {'nhận xét về': 1.0},\n",
       " 'xet ve van': {'xét về văn': 1.0},\n",
       " 've van ngu': {'về văn ngữ': 1.0},\n",
       " 'van ngu trong': {'văn ngữ trong': 1.0},\n",
       " 'ngu trong mot': {'ngữ trong một': 1.0},\n",
       " 'trong mot cuon': {'trong một cuốn': 1.0},\n",
       " 'mot cuon tieu': {'một cuốn tiểu': 1.0},\n",
       " 'cuon tieu thuyet': {'cuốn tiểu thuyết': 1.0},\n",
       " 'tieu thuyet thi': {'tiểu thuyết thì': 1.0},\n",
       " 'thuyet thi chi': {'thuyết thì chỉ': 1.0},\n",
       " 'thi chi con': {'thì chỉ còn': 1.0},\n",
       " 'chi con 12,8%,': {'chỉ còn 12,8%,': 1.0},\n",
       " 'con 12,8%, kich': {'còn 12,8%, kịch': 1.0},\n",
       " '12,8%, kich noi': {'12,8%, kịch nói': 1.0},\n",
       " 'kich noi rut': {'kịch nói rút': 1.0},\n",
       " 'noi rut xuong': {'nói rút xuống': 1.0},\n",
       " 'rut xuong con': {'rút xuống còn': 1.0},\n",
       " 'xuong con 8,9%,': {'xuống còn 8,9%,': 1.0},\n",
       " 'con 8,9%, va': {'còn 8,9%, và': 1.0},\n",
       " '8,9%, va ngon': {'8,9%, và ngôn': 1.0},\n",
       " 'va ngon ngu': {'và ngôn ngữ': 1.0},\n",
       " 'ngon ngu noi': {'ngôn ngữ nói': 1.0},\n",
       " 'ngu noi chuyen': {'ngữ nói chuyện': 1.0},\n",
       " 'noi chuyen hang': {'nói chuyện hằng': 1.0},\n",
       " 'chuyen hang ngay': {'chuyện hằng ngày': 1.0},\n",
       " 'hang ngay con': {'hằng ngày còn': 1.0},\n",
       " 'ngay con thap': {'ngày còn thấp': 1.0},\n",
       " 'con thap hon': {'còn thấp hơn': 1.0},\n",
       " 'thap hon nua..': {'thấp hơn nữa..': 1.0},\n",
       " 'Ke tu dau': {'Kể từ đầu': 1.0},\n",
       " 'tu dau the': {'từ đầu thế': 1.0},\n",
       " 'dau the ky': {'đầu thế kỷ': 1.0},\n",
       " 'ky thu XI,': {'kỷ thứ XI,': 1.0},\n",
       " 'thu XI, Nho': {'thứ XI, Nho': 1.0},\n",
       " 'XI, Nho hoc': {'XI, Nho học': 1.0},\n",
       " 'Nho hoc phat': {'Nho học phát': 1.0},\n",
       " 'hoc phat trien,': {'học phát triển,': 1.0},\n",
       " 'phat trien, viec': {'phát triển, việc': 1.0},\n",
       " 'trien, viec hoc': {'triển, việc học': 1.0},\n",
       " 'viec hoc van': {'việc học văn': 1.0},\n",
       " 'hoc van tu': {'học văn tự': 1.0},\n",
       " 'van tu chu': {'văn tự chữ': 1.0},\n",
       " 'tu chu Nho': {'tự chữ Nho': 1.0},\n",
       " 'chu Nho duoc': {'chữ Nho được': 1.0},\n",
       " 'Nho duoc day': {'Nho được đẩy': 1.0},\n",
       " 'duoc day manh,': {'được đẩy mạnh,': 1.0},\n",
       " 'day manh, tang': {'đẩy mạnh, tầng': 1.0},\n",
       " 'manh, tang lop': {'mạnh, tầng lớp': 1.0},\n",
       " 'tang lop tri': {'tầng lớp trí': 1.0},\n",
       " 'lop tri thuc': {'lớp trí thức': 1.0},\n",
       " 'tri thuc duoc': {'trí thức được': 1.0},\n",
       " 'thuc duoc mo': {'thức được mở': 1.0},\n",
       " 'duoc mo rong': {'được mở rộng': 1.0},\n",
       " 'mo rong tao': {'mở rộng tạo': 1.0},\n",
       " 'rong tao tien': {'rộng tạo tiền': 1.0},\n",
       " 'tao tien de': {'tạo tiền đề': 1.0},\n",
       " 'tien de cho': {'tiền đề cho': 0.5, 'tiên đề cho': 0.5},\n",
       " 'de cho mot': {'đề cho một': 1.0},\n",
       " 'cho mot nen': {'cho một nền': 1.0},\n",
       " 'mot nen van': {'một nền văn': 1.0},\n",
       " 'nen van chuong': {'nền văn chương': 1.0},\n",
       " 'van chuong cua': {'văn chương của': 1.0},\n",
       " 'chuong cua nguoi': {'chương của người': 1.0},\n",
       " 'cua nguoi Viet': {'của người Việt': 1.0},\n",
       " 'nguoi Viet bang': {'người Việt bằng': 1.0},\n",
       " 'Viet bang chu': {'Việt bằng chữ': 1.0},\n",
       " 'bang chu Nho': {'bằng chữ Nho': 1.0},\n",
       " 'chu Nho cuc': {'chữ Nho cực': 1.0},\n",
       " 'Nho cuc ky': {'Nho cực kỳ': 1.0},\n",
       " 'cuc ky phat': {'cực kỳ phát': 1.0},\n",
       " 'ky phat trien': {'kỳ phát triển': 1.0},\n",
       " 'phat trien voi': {'phát triển với': 1.0},\n",
       " 'trien voi cac': {'triển với các': 1.0},\n",
       " 'voi cac ang': {'với các áng': 1.0},\n",
       " 'cac ang van': {'các áng văn': 1.0},\n",
       " 'ang van thu': {'áng văn thư': 1.0},\n",
       " 'van thu noi': {'văn thư nổi': 1.0},\n",
       " 'thu noi tieng': {'thư nổi tiếng': 1.0},\n",
       " 'noi tieng nhu': {'nổi tiếng như': 1.0},\n",
       " 'tieng nhu \"Nam': {'tiếng như \"Nam': 1.0},\n",
       " 'nhu \"Nam quoc': {'như \"Nam quốc': 1.0},\n",
       " '\"Nam quoc son': {'\"Nam quốc sơn': 1.0},\n",
       " 'quoc son ha\"': {'quốc sơn hà\"': 1.0},\n",
       " 'son ha\" ben': {'sơn hà\" bên': 1.0},\n",
       " 'ha\" ben song': {'hà\" bên sông': 1.0},\n",
       " 'ben song Nhu': {'bên sông Như': 1.0},\n",
       " 'song Nhu Nguyet': {'sông Như Nguyệt': 1.0},\n",
       " 'Nhu Nguyet (song': {'Như Nguyệt (sông': 1.0},\n",
       " 'Nguyet (song Cau).': {'Nguyệt (sông Cầu).': 1.0},\n",
       " 'Chu Nom duoc': {'Chữ Nôm được': 1.0},\n",
       " 'Nom duoc chinh': {'Nôm được chính': 1.0},\n",
       " 'chinh thuc dung': {'chính thức dùng': 1.0},\n",
       " 'thuc dung trong': {'thức dùng trong': 1.0},\n",
       " 'dung trong hanh': {'dùng trong hành': 1.0},\n",
       " 'trong hanh chinh': {'trong hành chính': 1.0},\n",
       " 'hanh chinh khi': {'hành chính khi': 1.0},\n",
       " 'chinh khi vua': {'chính khi vua': 1.0},\n",
       " 'khi vua Quang': {'khi vua Quang': 1.0},\n",
       " 'vua Quang Trung': {'vua Quang Trung': 1.0},\n",
       " 'Quang Trung len': {'Quang Trung lên': 1.0},\n",
       " 'Trung len ngoi': {'Trung lên ngôi': 1.0},\n",
       " 'len ngoi vao': {'lên ngôi vào': 1.0},\n",
       " 'ngoi vao nam': {'ngôi vào năm': 1.0},\n",
       " 'vao nam 1789.': {'vào năm 1789.': 1.0},\n",
       " 'Tu khi Phap': {'Từ khi Pháp': 1.0},\n",
       " 'khi Phap xam': {'khi Pháp xâm': 1.0},\n",
       " 'Phap xam luoc': {'Pháp xâm lược': 1.0},\n",
       " 'xam luoc Viet': {'xâm lược Việt': 1.0},\n",
       " 'luoc Viet Nam': {'lược Việt Nam': 1.0},\n",
       " 'Viet Nam vao': {'Việt Nam vào': 1.0},\n",
       " 'Nam vao nua': {'Nam vào nửa': 1.0},\n",
       " 'vao nua cuoi': {'vào nửa cuối': 1.0},\n",
       " 'nua cuoi the': {'nửa cuối thế': 1.0},\n",
       " 'cuoi the ky': {'cuối thế kỷ': 1.0},\n",
       " 'ky thu XIX,': {'kỷ thứ XIX,': 1.0},\n",
       " 'thu XIX, tieng': {'thứ XIX, tiếng': 1.0},\n",
       " 'XIX, tieng Phap': {'XIX, tiếng Pháp': 1.0},\n",
       " 'tieng Phap dan': {'tiếng Pháp dần': 1.0},\n",
       " 'Phap dan dan': {'Pháp dần dần': 1.0},\n",
       " 'dan dan thay': {'dần dần thay': 1.0},\n",
       " 'dan thay the': {'dần thay thế': 1.0},\n",
       " 'thay the vi': {'thay thế vị': 1.0},\n",
       " 'the vi tri': {'thế vị trí': 1.0},\n",
       " 'vi tri cua': {'vị trí của': 1.0},\n",
       " 'tri cua chu': {'trí của chữ': 1.0},\n",
       " 'cua chu Nho,': {'của chữ Nho,': 1.0},\n",
       " 'chu Nho, tro': {'chữ Nho, trở': 1.0},\n",
       " 'Nho, tro thanh': {'Nho, trở thành': 1.0},\n",
       " 'tro thanh ngon': {'trở thành ngôn': 1.0},\n",
       " 'thanh ngon ngu': {'thành ngôn ngữ': 1.0},\n",
       " 'ngon ngu chinh': {'ngôn ngữ chính': 1.0},\n",
       " 'ngu chinh thuc': {'ngữ chính thức': 1.0},\n",
       " 'chinh thuc trong': {'chính thức trong': 1.0},\n",
       " 'thuc trong giao': {'thức trong giáo': 1.0},\n",
       " 'trong giao duc,': {'trong giáo dục,': 1.0},\n",
       " 'giao duc, hanh': {'giáo dục, hành': 1.0},\n",
       " 'duc, hanh chinh': {'dục, hành chính': 1.0},\n",
       " 'hanh chinh va': {'hành chính và': 1.0},\n",
       " 'chinh va ngoai': {'chính và ngoại': 1.0},\n",
       " 'va ngoai giao.': {'và ngoại giao.': 1.0},\n",
       " 'Chu Quoc ngu,': {'Chữ Quốc ngữ,': 1.0},\n",
       " 'Quoc ngu, von': {'Quốc ngữ, vốn': 1.0},\n",
       " 'ngu, von duoc': {'ngữ, vốn được': 1.0},\n",
       " 'von duoc tao': {'vốn được tạo': 1.0},\n",
       " 'duoc tao ra': {'được tạo ra': 1.0},\n",
       " 'tao ra boi': {'tạo ra bởi': 1.0},\n",
       " 'ra boi mot': {'ra bởi một': 1.0},\n",
       " 'boi mot so': {'bởi một số': 1.0},\n",
       " 'mot so nha': {'một số nhà': 1.0},\n",
       " 'so nha truyen': {'số nhà truyền': 1.0},\n",
       " 'nha truyen giao': {'nhà truyền giáo': 1.0},\n",
       " 'truyen giao chau': {'truyền giáo châu': 1.0},\n",
       " 'giao chau Au,': {'giáo châu Âu,': 1.0},\n",
       " 'chau Au, dac': {'châu Âu, đặc': 1.0},\n",
       " 'Au, dac biet': {'Âu, đặc biệt': 1.0},\n",
       " 'dac biet la': {'đặc biệt là': 0.9897959183673469,\n",
       "  'đăc biệt là': 0.01020408163265306},\n",
       " 'biet la hai': {'biệt là hai': 1.0},\n",
       " 'la hai tu': {'là hai tu': 1.0},\n",
       " 'hai tu si': {'hai tu sĩ': 1.0},\n",
       " 'tu si nguoi': {'tu sĩ người': 1.0},\n",
       " 'si nguoi Bo': {'sĩ người Bồ': 1.0},\n",
       " 'nguoi Bo Dao': {'người Bồ Đào': 1.0},\n",
       " 'Bo Dao Nha': {'Bồ Đào Nha': 1.0},\n",
       " 'Dao Nha Gaspar': {'Đào Nha Gaspar': 1.0},\n",
       " 'Nha Gaspar do': {'Nha Gaspar do': 1.0},\n",
       " 'Gaspar do Amaral': {'Gaspar do Amaral': 1.0},\n",
       " 'do Amaral va': {'do Amaral và': 1.0},\n",
       " 'Amaral va Antonio': {'Amaral và Antonio': 1.0},\n",
       " 'va Antonio Barbosa,': {'và Antonio Barbosa,': 1.0},\n",
       " 'Antonio Barbosa, voi': {'Antonio Barbosa, với': 1.0},\n",
       " 'Barbosa, voi muc': {'Barbosa, với mục': 1.0},\n",
       " 'voi muc dich': {'với mục đích': 1.0},\n",
       " 'muc dich dung': {'mục đích dùng': 1.0},\n",
       " 'dich dung ky': {'đích dùng ký': 1.0},\n",
       " 'dung ky tu': {'dùng ký tự': 0.2, 'dụng ký tự': 0.8},\n",
       " 'ky tu Latinh': {'ký tự Latinh': 1.0},\n",
       " 'tu Latinh de': {'tự Latinh để': 1.0},\n",
       " 'Latinh de bieu': {'Latinh để biểu': 1.0},\n",
       " 'de bieu hien': {'để biểu hiện': 1.0},\n",
       " 'bieu hien tieng': {'biểu hiện tiếng': 1.0},\n",
       " 'hien tieng Viet,': {'hiện tiếng Việt,': 1.0},\n",
       " 'tieng Viet, ngay': {'tiếng Việt, ngày': 1.0},\n",
       " 'Viet, ngay cang': {'Việt, ngày càng': 1.0},\n",
       " 'ngay cang duoc': {'ngày càng được': 1.0},\n",
       " 'cang duoc pho': {'càng được phổ': 1.0},\n",
       " 'duoc pho bien': {'được phổ biến': 1.0},\n",
       " 'pho bien va': {'phổ biến và': 1.0},\n",
       " 'bien va duoc': {'biến và được': 1.0},\n",
       " 'va duoc nguoi': {'và được người': 1.0},\n",
       " 'duoc nguoi Viet': {'được người Việt': 1.0},\n",
       " 'nguoi Viet tiep': {'người Việt tiếp': 1.0},\n",
       " 'Viet tiep nhan.': {'Việt tiếp nhận.': 1.0},\n",
       " 'To \"Gia Dinh': {'Tờ \"Gia Định': 1.0},\n",
       " '\"Gia Dinh bao\"': {'\"Gia Định báo\"': 1.0},\n",
       " 'Dinh bao\" la': {'Định báo\" là': 1.0},\n",
       " 'bao\" la to': {'báo\" là tờ': 1.0},\n",
       " 'la to bao': {'là tờ báo': 1.0},\n",
       " 'to bao dau': {'tờ báo đầu': 1.0},\n",
       " 'bao dau tien': {'báo đầu tiên': 1.0},\n",
       " 'dau tien duoc': {'đầu tiên được': 1.0},\n",
       " 'tien duoc phat': {'tiên được phát': 1.0},\n",
       " 'duoc phat hanh': {'được phát hành': 1.0},\n",
       " 'phat hanh bang': {'phát hành bằng': 1.0},\n",
       " 'hanh bang chu': {'hành bằng chữ': 1.0},\n",
       " 'bang chu Quoc': {'bằng chữ Quốc': 1.0},\n",
       " 'Quoc ngu tai': {'Quốc ngữ tại': 1.0},\n",
       " 'ngu tai Nam': {'ngữ tại Nam': 1.0},\n",
       " 'tai Nam Ky': {'tại Nam Kỳ': 1.0},\n",
       " 'Nam Ky vao': {'Nam Kỳ vào': 1.0},\n",
       " 'Ky vao nam': {'Kỳ vào năm': 1.0},\n",
       " 'vao nam 1865,': {'vào năm 1865,': 1.0},\n",
       " 'nam 1865, dat': {'năm 1865, đặt': 1.0},\n",
       " '1865, dat nen': {'1865, đặt nền': 1.0},\n",
       " 'dat nen mong': {'đặt nền móng': 1.0},\n",
       " 'nen mong cho': {'nền móng cho': 1.0},\n",
       " 'mong cho su': {'móng cho sự': 1.0},\n",
       " 'su phat trien': {'sự phát triển': 0.9833333333333333,\n",
       "  'sử phát triển': 0.016666666666666666},\n",
       " 'phat trien va': {'phát triển và': 1.0},\n",
       " 'trien va xu': {'triển và xu': 1.0},\n",
       " 'va xu huong': {'và xu hướng': 1.0},\n",
       " 'xu huong cua': {'xu hướng của': 1.0},\n",
       " 'huong cua chu': {'hướng của chữ': 0.5, 'hưởng của chủ': 0.5},\n",
       " 'cua chu Quoc': {'của chữ Quốc': 1.0},\n",
       " 'Quoc ngu nhu': {'Quốc ngữ như': 1.0},\n",
       " 'ngu nhu la': {'ngữ như là': 1.0},\n",
       " 'nhu la chu': {'như là chữ': 1.0},\n",
       " 'la chu viet': {'là chữ viết': 1.0},\n",
       " 'chu viet chinh': {'chữ viết chính': 1.0},\n",
       " 'viet chinh thuc': {'viết chính thức': 1.0},\n",
       " 'chinh thuc cua': {'chính thức của': 1.0},\n",
       " 'thuc cua nuoc': {'thức của nước': 1.0},\n",
       " 'cua nuoc Viet': {'của nước Việt': 1.0},\n",
       " 'nuoc Viet Nam': {'nước Việt Nam': 1.0},\n",
       " 'Viet Nam doc': {'Việt Nam độc': 1.0},\n",
       " 'Nam doc lap': {'Nam độc lập': 1.0},\n",
       " 'doc lap sau': {'độc lập sau': 1.0},\n",
       " 'lap sau nay.': {'lập sau này.': 1.0},\n",
       " 'Mat khac, nhung': {'Mặt khác, những': 1.0},\n",
       " 'khac, nhung khai': {'khác, những khái': 1.0},\n",
       " 'nhung khai niem': {'những khái niệm': 1.0},\n",
       " 'khai niem chinh': {'khái niệm chính': 1.0},\n",
       " 'niem chinh tri': {'niệm chính trị': 1.0},\n",
       " 'chinh tri xa': {'chính trị xã': 1.0},\n",
       " 'tri xa hoi,': {'trị xã hội,': 1.0},\n",
       " 'xa hoi, ky': {'xã hội, kỹ': 1.0},\n",
       " 'hoi, ky thuat': {'hội, kỹ thuật': 1.0},\n",
       " 'ky thuat moi': {'kỹ thuật mới': 1.0},\n",
       " 'thuat moi dan': {'thuật mới dẫn': 1.0},\n",
       " 'moi dan den': {'mới dẫn đến': 1.0},\n",
       " 'dan den viec': {'dẫn đến việc': 1.0},\n",
       " 'den viec nhap': {'đến việc nhập': 1.0},\n",
       " 'viec nhap cac': {'việc nhập các': 1.0},\n",
       " 'nhap cac thuat': {'nhập các thuật': 1.0},\n",
       " 'cac thuat ngu,': {'các thuật ngữ,': 1.0},\n",
       " 'thuat ngu, tu': {'thuật ngữ, từ': 1.0},\n",
       " 'ngu, tu ngu': {'ngữ, từ ngữ': 1.0},\n",
       " 'tu ngu moi.': {'từ ngữ mới.': 1.0},\n",
       " 'Co hai xu': {'Có hai xu': 1.0},\n",
       " 'hai xu huong': {'hai xu hướng': 1.0},\n",
       " 'xu huong ve': {'xu hướng về': 1.0},\n",
       " 'huong ve cach': {'hướng về cách': 1.0},\n",
       " 've cach thuc': {'về cách thức': 1.0},\n",
       " 'cach thuc nhap': {'cách thức nhập': 1.0},\n",
       " 'thuc nhap thuat': {'thức nhập thuật': 1.0},\n",
       " 'nhap thuat ngu': {'nhập thuật ngữ': 1.0},\n",
       " 'thuat ngu la:': {'thuật ngữ là:': 1.0},\n",
       " 'Chu Quoc ngu': {'Chữ Quốc ngữ': 1.0},\n",
       " 'Quoc ngu la': {'Quốc ngữ là': 1.0},\n",
       " 'ngu la chu': {'ngữ là chữ': 1.0},\n",
       " 'la chu ghi': {'là chữ ghi': 1.0},\n",
       " 'chu ghi am,': {'chữ ghi âm,': 1.0},\n",
       " 'ghi am, chi': {'ghi âm, chỉ': 1.0},\n",
       " 'am, chi su': {'âm, chỉ sử': 1.0},\n",
       " 'chi su dung': {'chỉ sử dụng': 1.0},\n",
       " 'su dung 27': {'sử dụng 27': 1.0},\n",
       " 'dung 27 ky': {'dụng 27 ký': 1.0},\n",
       " '27 ky tu': {'27 ký tự': 1.0},\n",
       " 'ky tu Latin': {'ký tự Latin': 1.0},\n",
       " 'tu Latin va': {'tự Latin và': 1.0},\n",
       " 'Latin va 6': {'Latin và 6': 1.0},\n",
       " 'va 6 dau': {'và 6 dấu': 1.0},\n",
       " '6 dau thanh,': {'6 dấu thanh,': 1.0},\n",
       " 'dau thanh, don': {'dấu thanh, đơn': 1.0},\n",
       " 'thanh, don gian,': {'thanh, đơn giản,': 1.0},\n",
       " ...}"
      ]
     },
     "execution_count": 23,
     "metadata": {},
     "output_type": "execute_result"
    }
   ],
   "source": [
    "count_prob"
   ]
  },
  {
   "cell_type": "code",
   "execution_count": 24,
   "metadata": {},
   "outputs": [],
   "source": [
    "path = r'D:\\Tài liệu học đại học\\Project1\\Project-1\\dictionary.dill' \n",
    "with open(path, 'wb') as f:\n",
    "    dill.dump(count_prob, f)"
   ]
  },
  {
   "cell_type": "code",
   "execution_count": 24,
   "metadata": {},
   "outputs": [],
   "source": [
    "def find_solution(obs, count_prob):\n",
    "  T = len(obs)\n",
    "  if T < 3:\n",
    "    return [obs]\n",
    "  result = []\n",
    "  for i in range(0, T - 2, 3):\n",
    "    no_diacritic = \" \".join(obs[i : i + 3])\n",
    "    if no_diacritic not in count_prob:\n",
    "      result.append(no_diacritic)\n",
    "      continue  \n",
    "    dic = count_prob[no_diacritic]\n",
    "    max_key = max(dic, key=dic.get)\n",
    "    result.append(max_key)\n",
    "  if len(obs) % 3 == 1:\n",
    "      no_diacritic = obs[len(obs) - 1]\n",
    "      if no_diacritic not in count_prob:\n",
    "        result.append(no_diacritic)\n",
    "      else:\n",
    "          dic = count_prob[no_diacritic]\n",
    "          max_key = max(dic, key=dic.get)\n",
    "          result.append(max_key)\n",
    "  elif len(obs) % 3 == 2:\n",
    "      no_diacritic = \" \".join(obs[len(obs) - 2 : len(obs)])\n",
    "      if no_diacritic not in count_prob:\n",
    "         result.append(no_diacritic)\n",
    "      else:\n",
    "          dic = count_prob[no_diacritic]\n",
    "          max_key = max(dic, key=dic.get)\n",
    "          result.append(max_key)\n",
    "  return result"
   ]
  },
  {
   "cell_type": "code",
   "execution_count": 26,
   "metadata": {},
   "outputs": [],
   "source": [
    "count_prob = {}\n",
    "path = r'D:\\Tài liệu học đại học\\Project1\\Project-1\\dictionary.dill' \n",
    "with open(path, 'rb') as f3:\n",
    "    count_prob = dill.load(f3)"
   ]
  },
  {
   "cell_type": "code",
   "execution_count": 27,
   "metadata": {},
   "outputs": [],
   "source": [
    "test = \"ISOC la mot to chuc quoc te hoat dong phi loi nhuan, phi\""
   ]
  },
  {
   "cell_type": "code",
   "execution_count": 28,
   "metadata": {},
   "outputs": [
    {
     "name": "stdout",
     "output_type": "stream",
     "text": [
      "ISOC là một tổ chức quốc tế hoạt động phi lợi nhuận, phi\n"
     ]
    }
   ],
   "source": [
    "print(\" \".join(find_solution(test.split(\" \"), count_prob)))"
   ]
  },
  {
   "cell_type": "code",
   "execution_count": 18,
   "metadata": {},
   "outputs": [],
   "source": [
    "random.seed(42)\n",
    "test_data_2_result = random.sample(sentences_data, 1000)"
   ]
  },
  {
   "cell_type": "code",
   "execution_count": 19,
   "metadata": {},
   "outputs": [
    {
     "data": {
      "text/plain": [
       "['Rồi lại phải qua dãy núi lèn (đá không phá đất), đá đứng như tường, ở giữa có đường đi rất hiểm: đó là ải Giáp Khẩu, tức là ải Chi Lăng, ở phía bắc huyện Hữu Lũng thuộc Lạng Sơn ngày nay.',\n",
       " 'Thành phố Hồ Chí Minh còn là một trung tâm mua sắm và giải trí.',\n",
       " 'Trong 11 tháng đầu năm 2012, thành phố Huế đã nhận được 2,4 triệu lượt khách du lịch, tăng 24,6% so với cùng kỳ năm 2011.',\n",
       " 'Bảng xếp hạng 100 phim Anh Quốc của BFI có \"Monty Python\\'s Life of Brian\" (1979), phim này thường được công chúng Anh Quốc bình chọn là hài hước nhất mọi thời đại.',\n",
       " 'Xấp xỉ 92% dân số toàn tỉnh cư trú trên đảo Newfoundland (cùng các đảo nhỏ xung quanh), trong đó hơn một nửa cư trú tại bán đảo Avalon.']"
      ]
     },
     "execution_count": 19,
     "metadata": {},
     "output_type": "execute_result"
    }
   ],
   "source": [
    "test_data_2_result[:5]"
   ]
  },
  {
   "cell_type": "code",
   "execution_count": 20,
   "metadata": {},
   "outputs": [
    {
     "data": {
      "text/plain": [
       "['Roi lai phai qua day nui len (da khong pha dat), da dung nhu tuong, o giua co duong di rat hiem: do la ai Giap Khau, tuc la ai Chi Lang, o phia bac huyen Huu Lung thuoc Lang Son ngay nay.',\n",
       " 'Thanh pho Ho Chi Minh con la mot trung tam mua sam va giai tri.',\n",
       " 'Trong 11 thang dau nam 2012, thanh pho Hue da nhan duoc 2,4 trieu luot khach du lich, tang 24,6% so voi cung ky nam 2011.',\n",
       " 'Bang xep hang 100 phim Anh Quoc cua BFI co \"Monty Python\\'s Life of Brian\" (1979), phim nay thuong duoc cong chung Anh Quoc binh chon la hai huoc nhat moi thoi dai.',\n",
       " 'Xap xi 92% dan so toan tinh cu tru tren dao Newfoundland (cung cac dao nho xung quanh), trong do hon mot nua cu tru tai ban dao Avalon.']"
      ]
     },
     "execution_count": 20,
     "metadata": {},
     "output_type": "execute_result"
    }
   ],
   "source": [
    "test_data_2 = [remove_diacritic(test_data_no_diacritic) for test_data_no_diacritic in test_data_2_result]\n",
    "test_data_2[:5]"
   ]
  },
  {
   "cell_type": "code",
   "execution_count": 27,
   "metadata": {},
   "outputs": [],
   "source": [
    "def compare_words(sentence1, sentence2):\n",
    "    words1 = sentence1.split()\n",
    "    words2 = sentence2.split()\n",
    "    same = 0\n",
    "    for i in range(len(words1)):\n",
    "        if words1[i] == words2[i]:\n",
    "            same += 1\n",
    "    similarity_prob = (same / len(words1)) * 100\n",
    "    return similarity_prob"
   ]
  },
  {
   "cell_type": "code",
   "execution_count": 28,
   "metadata": {},
   "outputs": [],
   "source": [
    "similarity_prob = 0\n",
    "similarity_prob_list = []\n",
    "for i in range(len(test_data_2)):\n",
    "    test_data_diacritic = \" \".join(map(str, find_solution(test_data_2[i].split(), count_prob)))\n",
    "    similarity_prob += compare_words(test_data_diacritic, test_data_2_result[i]) / len(test_data_2)\n",
    "    similarity_prob_list.append(compare_words(test_data_diacritic, test_data_2_result[i]))\n"
   ]
  },
  {
   "cell_type": "code",
   "execution_count": 29,
   "metadata": {},
   "outputs": [
    {
     "data": {
      "text/plain": [
       "94.60555766139619"
      ]
     },
     "execution_count": 29,
     "metadata": {},
     "output_type": "execute_result"
    }
   ],
   "source": [
    "similarity_prob"
   ]
  },
  {
   "cell_type": "code",
   "execution_count": 37,
   "metadata": {},
   "outputs": [
    {
     "data": {
      "image/png": "[encoded data removed]",
      "text/plain": [
       "<Figure size 640x480 with 1 Axes>"
      ]
     },
     "metadata": {},
     "output_type": "display_data"
    }
   ],
   "source": [
    "plt.hist(similarity_prob_list, bins = 150, edgecolor = \"black\")\n",
    "plt.title(\"Phân bố xác suất\")\n",
    "plt.xlabel(\"Xác suất\")\n",
    "plt.ylabel(\"Số lượng\")\n",
    "plt.axvline(similarity_prob, color='blue', linestyle='dashed', linewidth=1.5, label=f'Trung bình: {similarity_prob:.2f}')\n",
    "plt.axvline(max(similarity_prob_list), color='red', linestyle='dotted', linewidth=1.5, label=f'Lớn nhất: {max(similarity_prob_list)}')\n",
    "plt.axvline(min(similarity_prob_list), color='green', linestyle='dotted', linewidth=1.5, label=f'Nhỏ nhất: {min(similarity_prob_list)}')\n",
    "plt.legend()\n",
    "plt.savefig(r\"D:\\Tài liệu học đại học\\Project1\\Project-1\\images\\result_dictionary_pic5678.png\", format=\"png\", dpi=300)\n",
    "plt.show()"
   ]
  },
  {
   "cell_type": "code",
   "execution_count": 40,
   "metadata": {},
   "outputs": [],
   "source": [
    "count_prob2 = {}\n",
    "path = r'D:\\Tài liệu học đại học\\Project1\\Project-1\\dictionary2.dill' \n",
    "with open(path, 'rb') as f2:\n",
    "    count_prob2 = dill.load(f2)"
   ]
  },
  {
   "cell_type": "code",
   "execution_count": 15,
   "metadata": {},
   "outputs": [],
   "source": [
    "random.seed(42)\n",
    "test_data_1_result = random.sample(train_ipt_500k[223774:], 2000)"
   ]
  },
  {
   "cell_type": "code",
   "execution_count": 16,
   "metadata": {},
   "outputs": [
    {
     "data": {
      "text/plain": [
       "['Su tai thiet san bay van tiep tuc de nang cap trang thiet bi. Hang Iraqi Airways da chon san bay nay la trung tam hoat dong thu hai.\\n',\n",
       " 'duoc su dung rong rai.\\n',\n",
       " 'Cuoi cung, nhung bien phap tren day cung chi la nhung loi khuyen chung nhat. Cot loi cua van de la bo me phai lam sao tao duoc mot moi truong tin cay lan nhau, quan tam den con cai va di nhien, \"chi co trai tim nhay cam cua nguoi me moi nhan thay duoc nhung gi bat thuong du la rat nho o dua con yeu quy cua minh\".\\n',\n",
       " 'Francisco va Jacinta Marto bi chet som trong dot dich cum Tay Ban Nha, Francisco chet nam 1919, Jacinta chet nam 1920. Ca hai em da duoc giao hoang Gioan Phaolo II nang len hang dang ton kinh (venerable) ngay 13.5.1989, duoc phong chan phuoc ngay 13.5.2000. Va vao thu Bay 13-5-2017, giao hoang Phanxico da chu su thanh le trong the ton phong len bac hien thanh 2 chan phuoc thieu nhi. Mo cua 2 em hien nam trong long Vuong cung thanh duong Fatima.\\n',\n",
       " 'formula_57 la tap dong trong formula_45 neu formula_64 la tap mo trong formula_45.\\n']"
      ]
     },
     "execution_count": 16,
     "metadata": {},
     "output_type": "execute_result"
    }
   ],
   "source": [
    "test_data_1 = [remove_diacritic(test_data_no_diacritic) for test_data_no_diacritic in test_data_1_result]\n",
    "test_data_1[:5]"
   ]
  },
  {
   "cell_type": "code",
   "execution_count": 43,
   "metadata": {},
   "outputs": [],
   "source": [
    "similarity_prob1 = 0\n",
    "similarity_prob_list1 = []\n",
    "for i in range(len(test_data_1)):\n",
    "    test_data_diacritic = \" \".join(map(str, find_solution(test_data_1[i].split(), count_prob)))\n",
    "    similarity_prob1 += compare_words(test_data_diacritic, test_data_1_result[i]) / len(test_data_1)\n",
    "    similarity_prob_list1.append(compare_words(test_data_diacritic, test_data_1_result[i]))\n"
   ]
  },
  {
   "cell_type": "code",
   "execution_count": 44,
   "metadata": {},
   "outputs": [
    {
     "data": {
      "text/plain": [
       "37.02491668564333"
      ]
     },
     "execution_count": 44,
     "metadata": {},
     "output_type": "execute_result"
    }
   ],
   "source": [
    "similarity_prob1"
   ]
  },
  {
   "cell_type": "code",
   "execution_count": 45,
   "metadata": {},
   "outputs": [
    {
     "data": {
      "image/png": "[encoded data removed]",
      "text/plain": [
       "<Figure size 640x480 with 1 Axes>"
      ]
     },
     "metadata": {},
     "output_type": "display_data"
    }
   ],
   "source": [
    "plt.hist(similarity_prob_list1, bins = 150, edgecolor = \"black\")\n",
    "plt.title(\"Phân bố xác suất\")\n",
    "plt.xlabel(\"Xác suất\")\n",
    "plt.ylabel(\"Số lượng\")\n",
    "plt.axvline(similarity_prob1, color='blue', linestyle='dashed', linewidth=1.5, label=f'Trung bình: {similarity_prob1:.2f}')\n",
    "plt.axvline(max(similarity_prob_list1), color='red', linestyle='dotted', linewidth=1.5, label=f'Lớn nhất: {max(similarity_prob_list1)}')\n",
    "plt.axvline(min(similarity_prob_list1), color='green', linestyle='dotted', linewidth=1.5, label=f'Nhỏ nhất: {min(similarity_prob_list1)}')\n",
    "plt.legend()\n",
    "plt.savefig(r\"D:\\Tài liệu học đại học\\Project1\\Project-1\\images\\result_1_dictionary_pic5678.png\", format=\"png\", dpi=300)\n",
    "plt.show()"
   ]
  },
  {
   "cell_type": "code",
   "execution_count": 50,
   "metadata": {},
   "outputs": [],
   "source": [
    "similarity_prob3 = 0\n",
    "similarity_prob_list3 = []\n",
    "for i in range(len(test_data_2)):\n",
    "    test_data_diacritic = \" \".join(map(str, find_solution(test_data_2[i].split(), count_prob2)))\n",
    "    similarity_prob3 += compare_words(test_data_diacritic, test_data_2_result[i]) / len(test_data_2)\n",
    "    similarity_prob_list3.append(compare_words(test_data_diacritic, test_data_2_result[i]))\n"
   ]
  },
  {
   "cell_type": "code",
   "execution_count": 51,
   "metadata": {},
   "outputs": [
    {
     "data": {
      "text/plain": [
       "93.9946528886694"
      ]
     },
     "execution_count": 51,
     "metadata": {},
     "output_type": "execute_result"
    }
   ],
   "source": [
    "similarity_prob3"
   ]
  },
  {
   "cell_type": "code",
   "execution_count": 52,
   "metadata": {},
   "outputs": [
    {
     "data": {
      "image/png": "[encoded data removed]",
      "text/plain": [
       "<Figure size 640x480 with 1 Axes>"
      ]
     },
     "metadata": {},
     "output_type": "display_data"
    }
   ],
   "source": [
    "plt.hist(similarity_prob_list3, bins = 150, edgecolor = \"black\")\n",
    "plt.title(\"Phân bố xác suất\")\n",
    "plt.xlabel(\"Xác suất\")\n",
    "plt.ylabel(\"Số lượng\")\n",
    "plt.axvline(similarity_prob3, color='blue', linestyle='dashed', linewidth=1.5, label=f'Trung bình: {similarity_prob3:.2f}')\n",
    "plt.axvline(max(similarity_prob_list3), color='red', linestyle='dotted', linewidth=1.5, label=f'Lớn nhất: {max(similarity_prob_list3)}')\n",
    "plt.axvline(min(similarity_prob_list3), color='green', linestyle='dotted', linewidth=1.5, label=f'Nhỏ nhất: {min(similarity_prob_list)}')\n",
    "plt.legend()\n",
    "plt.savefig(r\"D:\\Tài liệu học đại học\\Project1\\Project-1\\images\\result_dictionary_pic223774.png\", format=\"png\", dpi=300)\n",
    "plt.show()"
   ]
  },
  {
   "cell_type": "code",
   "execution_count": 47,
   "metadata": {},
   "outputs": [],
   "source": [
    "similarity_prob2 = 0\n",
    "similarity_prob_list2 = []\n",
    "for i in range(len(test_data_1)):\n",
    "    test_data_diacritic = \" \".join(map(str, find_solution(test_data_1[i].split(), count_prob2)))\n",
    "    similarity_prob2 += compare_words(test_data_diacritic, test_data_1_result[i]) / len(test_data_1)\n",
    "    similarity_prob_list2.append(compare_words(test_data_diacritic, test_data_1_result[i]))"
   ]
  },
  {
   "cell_type": "code",
   "execution_count": 48,
   "metadata": {},
   "outputs": [
    {
     "data": {
      "text/plain": [
       "59.09684929655249"
      ]
     },
     "execution_count": 48,
     "metadata": {},
     "output_type": "execute_result"
    }
   ],
   "source": [
    "similarity_prob2"
   ]
  },
  {
   "cell_type": "code",
   "execution_count": 49,
   "metadata": {},
   "outputs": [
    {
     "data": {
      "image/png": "[encoded data removed]",
      "text/plain": [
       "<Figure size 640x480 with 1 Axes>"
      ]
     },
     "metadata": {},
     "output_type": "display_data"
    }
   ],
   "source": [
    "plt.hist(similarity_prob_list2, bins = 150, edgecolor = \"black\")\n",
    "plt.title(\"Phân bố xác suất\")\n",
    "plt.xlabel(\"Xác suất\")\n",
    "plt.ylabel(\"Số lượng\")\n",
    "plt.axvline(similarity_prob2, color='blue', linestyle='dashed', linewidth=1.5, label=f'Trung bình: {similarity_prob2:.2f}')\n",
    "plt.axvline(max(similarity_prob_list2), color='red', linestyle='dotted', linewidth=1.5, label=f'Lớn nhất: {max(similarity_prob_list2)}')\n",
    "plt.axvline(min(similarity_prob_list2), color='green', linestyle='dotted', linewidth=1.5, label=f'Nhỏ nhất: {min(similarity_prob_list2)}')\n",
    "plt.legend()\n",
    "plt.savefig(r\"D:\\Tài liệu học đại học\\Project1\\Project-1\\images\\result_1_dictionary_pic223774.png\", format=\"png\", dpi=300)\n",
    "plt.show()"
   ]
  },
  {
   "cell_type": "code",
   "execution_count": 9,
   "metadata": {},
   "outputs": [
    {
     "name": "stderr",
     "output_type": "stream",
     "text": [
      "100%|██████████| 17850/17850 [00:08<00:00, 2163.77it/s]\n"
     ]
    }
   ],
   "source": [
    "count_prob1 = compute_probabilities(sentences_data, 1)"
   ]
  },
  {
   "cell_type": "code",
   "execution_count": 10,
   "metadata": {},
   "outputs": [],
   "source": [
    "path = r'D:\\Tài liệu học đại học\\Project1\\Project-1\\dictionary1word.dill' \n",
    "with open(path, 'wb') as fa1:\n",
    "    dill.dump(count_prob1, fa1)"
   ]
  },
  {
   "cell_type": "code",
   "execution_count": 11,
   "metadata": {},
   "outputs": [
    {
     "name": "stderr",
     "output_type": "stream",
     "text": [
      "100%|██████████| 17850/17850 [00:07<00:00, 2480.88it/s]\n"
     ]
    }
   ],
   "source": [
    "count_prob2 = compute_probabilities(sentences_data, 2)"
   ]
  },
  {
   "cell_type": "code",
   "execution_count": 12,
   "metadata": {},
   "outputs": [],
   "source": [
    "path = r'D:\\Tài liệu học đại học\\Project1\\Project-1\\dictionary2word.dill' \n",
    "with open(path, 'wb') as fa2:\n",
    "    dill.dump(count_prob2, fa2)"
   ]
  },
  {
   "cell_type": "code",
   "execution_count": 13,
   "metadata": {},
   "outputs": [],
   "source": [
    "def compute_probabilities2(dataset, windows = 3):\n",
    "  count_arrivals = defaultdict(lambda : defaultdict(int))\n",
    "  for sentence in tqdm(dataset):\n",
    "    words = sentence.split()\n",
    "    if len(words) < 3: continue\n",
    "    for i in range(0, len(words) - 2):\n",
    "      no_diacritic = remove_diacritic(\" \".join(words[i : i + 3]))\n",
    "      count_arrivals[no_diacritic][\" \".join(words[i : i + 3])] += 1\n",
    "    \n",
    "    no_diacritic = remove_diacritic(words[len(words) - 1])\n",
    "    count_arrivals[no_diacritic][len(words) - 1] += 1\n",
    "    no_diacritic = remove_diacritic(words[len(words) - 2])\n",
    "    count_arrivals[no_diacritic][len(words) - 2] += 1\n",
    "    no_diacritic = remove_diacritic(\" \".join(words[len(words) - 2 : len(words)]))\n",
    "    count_arrivals[no_diacritic][\" \".join(words[len(words) - 2 : len(words)])] += 1\n",
    "\n",
    "  count_prob = {k : {k2 : v2 / sum(v.values()) for k2, v2 in v.items()} for k, v in count_arrivals.items()}\n",
    "  return count_prob"
   ]
  },
  {
   "cell_type": "code",
   "execution_count": 14,
   "metadata": {},
   "outputs": [
    {
     "name": "stderr",
     "output_type": "stream",
     "text": [
      "100%|██████████| 17850/17850 [00:07<00:00, 2497.46it/s]\n"
     ]
    }
   ],
   "source": [
    "count_prob3 = compute_probabilities(sentences_data)"
   ]
  },
  {
   "cell_type": "code",
   "execution_count": 30,
   "metadata": {},
   "outputs": [],
   "source": [
    "similarity_prob4a = 0\n",
    "similarity_prob_list4a = []\n",
    "for i in range(len(test_data_2)):\n",
    "    test_data_diacritic = \" \".join(map(str, find_solution(test_data_2[i].split(), count_prob3)))\n",
    "    similarity_prob4a += compare_words(test_data_diacritic, test_data_2_result[i]) / len(test_data_2)\n",
    "    similarity_prob_list4a.append(compare_words(test_data_diacritic, test_data_2_result[i]))\n"
   ]
  },
  {
   "cell_type": "code",
   "execution_count": 31,
   "metadata": {},
   "outputs": [
    {
     "data": {
      "text/plain": [
       "94.60555766139619"
      ]
     },
     "execution_count": 31,
     "metadata": {},
     "output_type": "execute_result"
    }
   ],
   "source": [
    "similarity_prob4a"
   ]
  },
  {
   "cell_type": "code",
   "execution_count": 32,
   "metadata": {},
   "outputs": [],
   "source": [
    "similarity_prob4b = 0\n",
    "similarity_prob_list4b = []\n",
    "for i in range(len(test_data_1)):\n",
    "    test_data_diacritic = \" \".join(map(str, find_solution(test_data_1[i].split(), count_prob3)))\n",
    "    similarity_prob4b += compare_words(test_data_diacritic, test_data_1_result[i]) / len(test_data_1)\n",
    "    similarity_prob_list4b.append(compare_words(test_data_diacritic, test_data_1_result[i]))\n"
   ]
  },
  {
   "cell_type": "code",
   "execution_count": 33,
   "metadata": {},
   "outputs": [
    {
     "data": {
      "text/plain": [
       "37.02491668564333"
      ]
     },
     "execution_count": 33,
     "metadata": {},
     "output_type": "execute_result"
    }
   ],
   "source": [
    "similarity_prob4b"
   ]
  },
  {
   "cell_type": "code",
   "execution_count": null,
   "metadata": {},
   "outputs": [],
   "source": []
  }
 ],
 "metadata": {
  "kernelspec": {
   "display_name": "base",
   "language": "python",
   "name": "python3"
  },
  "language_info": {
   "codemirror_mode": {
    "name": "ipython",
    "version": 3
   },
   "file_extension": ".py",
   "mimetype": "text/x-python",
   "name": "python",
   "nbconvert_exporter": "python",
   "pygments_lexer": "ipython3",
   "version": "3.11.7"
  }
 },
 "nbformat": 4,
 "nbformat_minor": 2
}
